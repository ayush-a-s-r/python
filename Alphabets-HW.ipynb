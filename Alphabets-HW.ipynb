{
 "cells": [
  {
   "cell_type": "code",
   "execution_count": 1,
   "metadata": {},
   "outputs": [
    {
     "name": "stdout",
     "output_type": "stream",
     "text": [
      "  * * *   \n",
      "*       * \n",
      "*       * \n",
      "* * * * * \n",
      "*       * \n",
      "*       * \n",
      "*       * \n"
     ]
    }
   ],
   "source": [
    "#A\n",
    "for i in range(7):\n",
    "    for j in range(5):\n",
    "        if((j==0 or j==4) and i!=0) or ((i==0 or i==3) and (j>0 and j<4)):\n",
    "            print(\"*\", end =\" \")\n",
    "        else:\n",
    "            print(end=\"  \")\n",
    "    print()"
   ]
  },
  {
   "cell_type": "code",
   "execution_count": 42,
   "metadata": {},
   "outputs": [
    {
     "name": "stdout",
     "output_type": "stream",
     "text": [
      "          \n",
      "  * * * * \n",
      "  *     * \n",
      "  * * * * \n",
      "  *     * \n",
      "  *     * \n",
      "  *     * \n"
     ]
    }
   ],
   "source": [
    "#A -- II\n",
    "for i in range(7):\n",
    "    for j in range(5):\n",
    "        if((j==1 or j==4) and i!=0) or ((i==1 or i==3) and (j>0 and j<4)):\n",
    "            print(\"*\", end =\" \")\n",
    "        else:\n",
    "            print(end=\"  \")\n",
    "    print()"
   ]
  },
  {
   "cell_type": "code",
   "execution_count": 15,
   "metadata": {},
   "outputs": [
    {
     "name": "stdout",
     "output_type": "stream",
     "text": [
      "   * * * * \n",
      "   *       * \n",
      "   *       * \n",
      "   * * * * \n",
      "   *       * \n",
      "   *       * \n",
      "   * * * * \n"
     ]
    }
   ],
   "source": [
    "#B\n",
    "for i in range(7):\n",
    "    for j in range(5):\n",
    "        if((j==1 or j==4)) or ((i==3 or i==6 or i==0) and (j>0 and j<4)):\n",
    "            print(\"*\", end = \" \")\n",
    "        else:\n",
    "            print(end=\"   \")\n",
    "    print()"
   ]
  },
  {
   "cell_type": "code",
   "execution_count": 38,
   "metadata": {},
   "outputs": [
    {
     "name": "stdout",
     "output_type": "stream",
     "text": [
      "* * * * * \n",
      "*     \n",
      "*     \n",
      "*     \n",
      "* * * * * \n"
     ]
    }
   ],
   "source": [
    "#C\n",
    "for i in range(5):\n",
    "    for j in range(5):\n",
    "        if((j==0) or (i==4 or i==0)):\n",
    "            print(\"*\", end = \" \")\n",
    "        else:\n",
    "            print(end = \" \")\n",
    "    print()\n"
   ]
  },
  {
   "cell_type": "code",
   "execution_count": 57,
   "metadata": {},
   "outputs": [
    {
     "name": "stdout",
     "output_type": "stream",
     "text": [
      " * * * * \n",
      "*     \n",
      "*     \n",
      "*     \n",
      " * * * * \n"
     ]
    }
   ],
   "source": [
    "#C -- II\n",
    "for i in range(5):\n",
    "    for j in range(5):\n",
    "        if((j==0) and (i!=0 and i!=4)) or ((i==4 or i==0) and (j>0 and j<5)):\n",
    "            print(\"*\", end = \" \")\n",
    "        else:\n",
    "            print(end = \" \")\n",
    "    print()"
   ]
  },
  {
   "cell_type": "code",
   "execution_count": 123,
   "metadata": {},
   "outputs": [
    {
     "name": "stdout",
     "output_type": "stream",
     "text": [
      "* * * * * \n",
      "*          * \n",
      "*          * \n",
      "*          * \n",
      "*          * \n",
      "*          * \n",
      "* * * * * \n"
     ]
    }
   ],
   "source": [
    "#D\n",
    "for i in range(7):\n",
    "    for j in range(5):\n",
    "        if((j==0 or j==4)) or ((i==0 or i==6) and (j>0 and j<4)):\n",
    "            print(\"*\", end = \" \")\n",
    "        else:\n",
    "            print(end = \"   \")\n",
    "    print()"
   ]
  },
  {
   "cell_type": "code",
   "execution_count": 126,
   "metadata": {},
   "outputs": [
    {
     "name": "stdout",
     "output_type": "stream",
     "text": [
      "* * * * * \n",
      "*     \n",
      "* * * * * \n",
      "*     \n",
      "* * * * * \n"
     ]
    }
   ],
   "source": [
    "#E\n",
    "for i in range(5):\n",
    "    for j in range(5):\n",
    "        if((j==0) or (i==0 or i==2 or i==4)):\n",
    "            print(\"*\", end = \" \")\n",
    "        else:\n",
    "            print(end = \" \")\n",
    "    print()"
   ]
  },
  {
   "cell_type": "code",
   "execution_count": 128,
   "metadata": {},
   "outputs": [
    {
     "name": "stdout",
     "output_type": "stream",
     "text": [
      "* * * * * \n",
      "*     \n",
      "* * * * * \n",
      "*     \n",
      "*     \n"
     ]
    }
   ],
   "source": [
    "#F\n",
    "for i in range(5):\n",
    "    for j in range(5):\n",
    "        if((j==0) or (i==0 or i==2)):\n",
    "            print(\"*\", end = \" \")\n",
    "        else:\n",
    "            print(end = \" \")\n",
    "    print()"
   ]
  },
  {
   "cell_type": "code",
   "execution_count": 151,
   "metadata": {},
   "outputs": [
    {
     "name": "stdout",
     "output_type": "stream",
     "text": [
      "    * * *     \n",
      "  *       *   \n",
      "  *           \n",
      "  *     * *   \n",
      "  *       *   \n",
      "  *       *   \n",
      "    * * *     \n"
     ]
    }
   ],
   "source": [
    "#G\n",
    "for i in range(7):\n",
    "    for j in range(7):\n",
    "        if((j==1) and (i!=0 and i!=6)) or ((i==0 or i==6) and (j>1 and j<5)) or ((i==3) and (j>3 and j<6) or (j==5 and i!=0 and i!=2 and i!=6)):\n",
    "            print(\"*\", end = \" \")\n",
    "        else:\n",
    "            print(end = \"  \")\n",
    "    print()\n"
   ]
  },
  {
   "cell_type": "code",
   "execution_count": 164,
   "metadata": {},
   "outputs": [
    {
     "name": "stdout",
     "output_type": "stream",
     "text": [
      "  *         * \n",
      "  *         * \n",
      "  *         * \n",
      "  * * * * * * \n",
      "  *         * \n",
      "  *         * \n",
      "  *         * \n"
     ]
    }
   ],
   "source": [
    "#H\n",
    "for i in range(7):\n",
    "    for j in range(7):\n",
    "        if((j==1 or j==6)) or ((i==3) and (j>0 and j<6)):\n",
    "            print(\"*\", end =\" \")\n",
    "        else:\n",
    "            print(end=\"  \")\n",
    "    print()"
   ]
  },
  {
   "cell_type": "code",
   "execution_count": 349,
   "metadata": {},
   "outputs": [
    {
     "name": "stdout",
     "output_type": "stream",
     "text": [
      "* * * * * \n",
      "    *     \n",
      "    *     \n",
      "    *     \n",
      "* * * * * \n"
     ]
    }
   ],
   "source": [
    "#I\n",
    "for i in range(5):\n",
    "    for j in range(5):\n",
    "        if((j==2) or (i==0 or i==4)):\n",
    "            print(\"*\", end =\" \")\n",
    "        else:\n",
    "            print(end=\"  \")\n",
    "    print()"
   ]
  },
  {
   "cell_type": "code",
   "execution_count": 203,
   "metadata": {},
   "outputs": [
    {
     "name": "stdout",
     "output_type": "stream",
     "text": [
      "* * * * * * * \n",
      "      *       \n",
      "      *       \n",
      "      *       \n",
      "      *       \n",
      "*     *       \n",
      "  * *         \n"
     ]
    }
   ],
   "source": [
    "#J\n",
    "for i in range(7):\n",
    "    for j in range(7):\n",
    "        if((j==3 and i!=6) or (i==0)) or ((i==6 and j>0 and j<3)) or ((i==5 and j==0)):\n",
    "            print(\"*\", end = \" \")\n",
    "        else:\n",
    "            print(end = \"  \")\n",
    "    print()"
   ]
  },
  {
   "cell_type": "code",
   "execution_count": 214,
   "metadata": {},
   "outputs": [
    {
     "name": "stdout",
     "output_type": "stream",
     "text": [
      "*     *   \n",
      "*   *     \n",
      "* *       \n",
      "*         \n",
      "* *       \n",
      "*   *     \n",
      "*     *   \n"
     ]
    }
   ],
   "source": [
    "#K\n",
    "for i in range(7):\n",
    "    for j in range(5):\n",
    "        if((j==0) or (i==0 and j>2 and j<4)) or((i==1 and j>1 and j<3)) or ((i==2 and j>0 and j<2)) or ((i==4 and j>0 and j<2)) or ((i==5 and j>1 and j<3)) or ((i==6 and j>2 and j<4)):\n",
    "            print(\"*\", end = \" \")\n",
    "        else:\n",
    "            print(end = \"  \")\n",
    "    print()  "
   ]
  },
  {
   "cell_type": "code",
   "execution_count": 216,
   "metadata": {},
   "outputs": [
    {
     "name": "stdout",
     "output_type": "stream",
     "text": [
      "*             \n",
      "*             \n",
      "*             \n",
      "*             \n",
      "*             \n",
      "*             \n",
      "* * * * * * * \n"
     ]
    }
   ],
   "source": [
    "#l\n",
    "for i in range(7):\n",
    "    for j in range(7):\n",
    "        if((j==0) or (i==6)):\n",
    "            print(\"*\", end = \" \")\n",
    "        else:\n",
    "            print(end = \"  \")\n",
    "    print()"
   ]
  },
  {
   "cell_type": "code",
   "execution_count": 227,
   "metadata": {
    "scrolled": true
   },
   "outputs": [
    {
     "name": "stdout",
     "output_type": "stream",
     "text": [
      "  *       * \n",
      "  *       * \n",
      "  * *   * * \n",
      "  *   *   * \n",
      "  *       * \n",
      "  *       * \n",
      "  *       * \n"
     ]
    }
   ],
   "source": [
    "#M\n",
    "for i in range(7):\n",
    "    for j in range(6):\n",
    "        if((j==1 or j==5) or (i==2 and (j==2 or j==4)) or (i==3 and j==3)):\n",
    "            print(\"*\", end = \" \")\n",
    "        else:\n",
    "            print(end = \"  \")\n",
    "    print()"
   ]
  },
  {
   "cell_type": "code",
   "execution_count": 238,
   "metadata": {},
   "outputs": [
    {
     "name": "stdout",
     "output_type": "stream",
     "text": [
      "*       * \n",
      "* *     * \n",
      "*   *   * \n",
      "*     * * \n",
      "*       * \n"
     ]
    }
   ],
   "source": [
    "#N\n",
    "for i in range(5):\n",
    "    for j in range(5):\n",
    "        if((j==0 or j==4)) or ((i==1 and j>0 and j<2)) or ((i==2 and j>1 and j<3)) or ((i==3 and j>2 and j<4)):\n",
    "            print(\"*\", end = \" \")\n",
    "        else:\n",
    "            print(end =  \"  \")\n",
    "    print()\n"
   ]
  },
  {
   "cell_type": "code",
   "execution_count": 274,
   "metadata": {},
   "outputs": [
    {
     "name": "stdout",
     "output_type": "stream",
     "text": [
      "  * * *   \n",
      "*       * \n",
      "*       * \n",
      "*       * \n",
      "  * * *   \n"
     ]
    }
   ],
   "source": [
    "#O\n",
    "for i in range(5):\n",
    "    for j in range(5):\n",
    "        if((j==0 or j==4) and (i!=0 and i!=4) or ((i==0 or i==4) and j>0 and j<4)):\n",
    "            print(\"*\", end = \" \")\n",
    "        else:\n",
    "            print(end = \"  \")\n",
    "    print()\n"
   ]
  },
  {
   "cell_type": "code",
   "execution_count": 306,
   "metadata": {},
   "outputs": [
    {
     "name": "stdout",
     "output_type": "stream",
     "text": [
      "* * * * *     \n",
      "*         *   \n",
      "*         *   \n",
      "* * * * *     \n",
      "*             \n",
      "*             \n",
      "*             \n"
     ]
    }
   ],
   "source": [
    "#P\n",
    "for i in range(7):\n",
    "    for j in range(7):\n",
    "        if(j == 0) or ((i == 0 or i == 3) and (j > 0 and j < 5)) or ((i == 1 or i == 2) and (j == 5 or j == 0)):\n",
    "            print(\"*\", end = \" \")\n",
    "        else:\n",
    "            print(end = \"  \")\n",
    "    print()\n"
   ]
  },
  {
   "cell_type": "code",
   "execution_count": 424,
   "metadata": {},
   "outputs": [
    {
     "name": "stdout",
     "output_type": "stream",
     "text": [
      "  * * * *     \n",
      "*         *   \n",
      "*         *   \n",
      "*     *   *   \n",
      "*       * *   \n",
      "  * * * *   * \n"
     ]
    }
   ],
   "source": [
    "#Q\n",
    "for i in range(6):\n",
    "    for j in range(7):\n",
    "        if((j==0 or j==5) and (i!=0 and i!=5) or ((i==0 or i==5) and j>0 and j<5)) or ((i==3) and (j>2 and j<4)) or ((i==4) and (j>3 and j<5)) or ((i==5) and j==6):\n",
    "            print(\"*\", end = \" \")\n",
    "        else:\n",
    "            print(end = \"  \")\n",
    "    print()"
   ]
  },
  {
   "cell_type": "code",
   "execution_count": 309,
   "metadata": {},
   "outputs": [
    {
     "name": "stdout",
     "output_type": "stream",
     "text": [
      "* * * * *     \n",
      "*         *   \n",
      "*         *   \n",
      "* * * * *     \n",
      "*     *       \n",
      "*       *     \n",
      "*         *   \n"
     ]
    }
   ],
   "source": [
    "#R\n",
    "for i in range(7):\n",
    "    for j in range(7):\n",
    "        if(j == 0) or ((i == 0 or i == 3) and (j > 0 and j < 5)) or ((i == 1 or i == 2) and (j == 5 or j == 0)) or ((i==4 and j>2 and j<4)) or ((i==5 and j>3 and j<5)) or ((i==6 and j>4 and j<6)):\n",
    "            print(\"*\", end = \" \")\n",
    "        else:\n",
    "            print(end = \"  \")\n",
    "    print()"
   ]
  },
  {
   "cell_type": "code",
   "execution_count": 322,
   "metadata": {},
   "outputs": [
    {
     "name": "stdout",
     "output_type": "stream",
     "text": [
      "  * * * * *   \n",
      "*             \n",
      "*             \n",
      "  * * * *     \n",
      "          *   \n",
      "          *   \n",
      "* * * * *     \n"
     ]
    }
   ],
   "source": [
    "#S\n",
    "for i in range(7):\n",
    "    for j in range(7):\n",
    "        if((i==0 or i==3 or i==6) and (j>0 and j<5)) or ((j==0) and (i==1 or i==2 or i==6)) or ((j==5) and (i==0 or i==4 or i==5)):\n",
    "            print(\"*\", end = \" \")\n",
    "        else:\n",
    "            print(end = \"  \")\n",
    "    print()"
   ]
  },
  {
   "cell_type": "code",
   "execution_count": 353,
   "metadata": {},
   "outputs": [
    {
     "name": "stdout",
     "output_type": "stream",
     "text": [
      "* * * * * \n",
      "    *     \n",
      "    *     \n",
      "    *     \n",
      "    *     \n"
     ]
    }
   ],
   "source": [
    "#T\n",
    "for i in range(5):\n",
    "    for j in range(5):\n",
    "        if((j==2) or (i==0)):\n",
    "            print(\"*\", end = \" \")\n",
    "        else:\n",
    "            print(end = \"  \")\n",
    "    print()\n"
   ]
  },
  {
   "cell_type": "code",
   "execution_count": 359,
   "metadata": {},
   "outputs": [
    {
     "name": "stdout",
     "output_type": "stream",
     "text": [
      "*       *     \n",
      "*       *     \n",
      "*       *     \n",
      "*       *     \n",
      "*       *     \n",
      "  * * *       \n",
      "              \n"
     ]
    }
   ],
   "source": [
    "#U\n",
    "for i in range(7):\n",
    "    for j in range(7):\n",
    "        if((j==0 or j==4) and (i!=6 and i!=5)) or ((i==5) and (j>0 and j<4)):\n",
    "            print(\"*\", end = \" \")\n",
    "        else:\n",
    "            print(end = \"  \")\n",
    "    print()\n",
    "            "
   ]
  },
  {
   "cell_type": "code",
   "execution_count": 373,
   "metadata": {},
   "outputs": [
    {
     "name": "stdout",
     "output_type": "stream",
     "text": [
      "*       *   \n",
      "  *   *     \n",
      "    *       \n"
     ]
    }
   ],
   "source": [
    "#V\n",
    "for i in range(3):\n",
    "    for j in range(6):\n",
    "        if((j==0 or j==4) and (i!=1 and i!=2 and i!=3)) or ((j==1 or j==3) and (i!=0 and i!=2 and i!=3)) or ((j==2) and (i!=0 and i!=1 and i!=3)):\n",
    "            print(\"*\", end = \" \")\n",
    "        else:\n",
    "            print(end = \"  \")\n",
    "    print()\n"
   ]
  },
  {
   "cell_type": "code",
   "execution_count": 376,
   "metadata": {},
   "outputs": [
    {
     "name": "stdout",
     "output_type": "stream",
     "text": [
      "*               * \n",
      "  *     *     *   \n",
      "    * *   * *     \n",
      "      *   *       \n"
     ]
    }
   ],
   "source": [
    "#W\n",
    "for i in range(4):\n",
    "    for j in range(9):\n",
    "        if((j==0 or j==8) and (i!=1 and i!=2 and i!=3)) or ((j==1 or j==4 or j==7) and (i!=0 and i!=2 and i!=3)) or ((j==2 or j==3 or j==5 or j==6) and (i!=0 and i!=1 and i!=3)) or ((j==3 or j==5) and (i!=0 and i!=1 and i!=2)):\n",
    "            print(\"*\", end = \" \")\n",
    "        else:\n",
    "            print(end = \"  \")\n",
    "    print()"
   ]
  },
  {
   "cell_type": "code",
   "execution_count": 380,
   "metadata": {
    "scrolled": true
   },
   "outputs": [
    {
     "name": "stdout",
     "output_type": "stream",
     "text": [
      "*               * \n",
      "  *           *   \n",
      "    *   *   *     \n",
      "      *   *       \n"
     ]
    }
   ],
   "source": [
    "#W -- II\n",
    "for i in range(4):\n",
    "    for j in range(9):\n",
    "        if((j==0 or j==8) and (i!=1 and i!=2 and i!=3)) or ((j==1 or j==7) and (i!=0 and i!=2 and i!=3)) or ((j==2 or j==4 or j==6) and (i!=0 and i!=1 and i!=3)) or ((j==3 or j==5) and (i!=0 and i!=1 and i!=2)):\n",
    "            print(\"*\", end = \" \")\n",
    "        else:\n",
    "            print(end = \"  \")\n",
    "    print()"
   ]
  },
  {
   "cell_type": "code",
   "execution_count": 391,
   "metadata": {
    "scrolled": true
   },
   "outputs": [
    {
     "name": "stdout",
     "output_type": "stream",
     "text": [
      "*       * \n",
      "  *   *   \n",
      "    *     \n",
      "  *   *   \n",
      "*       * \n"
     ]
    }
   ],
   "source": [
    "#X\n",
    "for i in range(5):\n",
    "    for j in range(5):\n",
    "        if((j==0 or j==4) and (i!=1 and i!=2 and i!=3 and i!=3)) or ((j==1 or j==3) and (i!=0 and i!=2 and i!=4)) or ((i==2) and (j>1 and j<3)):\n",
    "             print(\"*\", end = \" \")\n",
    "        else:\n",
    "            print(end = \"  \")\n",
    "    print()"
   ]
  },
  {
   "cell_type": "code",
   "execution_count": 403,
   "metadata": {},
   "outputs": [
    {
     "name": "stdout",
     "output_type": "stream",
     "text": [
      "*       * \n",
      "  *   *   \n",
      "    *     \n",
      "    *     \n",
      "    *     \n"
     ]
    }
   ],
   "source": [
    "#Y\n",
    "for i in range(5):\n",
    "    for j in range(5):\n",
    "        if((j==0 or j==4) and (i!=1 and i!=2 and i!=3 and i!=4)) or ((j==1 or j==3) and (i!=0 and i!=2 and i!=3 and i!=4)) or ((j==2) and (i!=0 and i!=1)):\n",
    "             print(\"*\", end = \" \")\n",
    "        else:\n",
    "            print(end = \"  \")\n",
    "    print()\n"
   ]
  },
  {
   "cell_type": "code",
   "execution_count": 408,
   "metadata": {},
   "outputs": [
    {
     "name": "stdout",
     "output_type": "stream",
     "text": [
      "* * * * * \n",
      "      *   \n",
      "    *     \n",
      "  *       \n",
      "* * * * * \n"
     ]
    }
   ],
   "source": [
    "#Z\n",
    "for i in range(5):\n",
    "    for j in range(5):\n",
    "        if((i==0 or i==4)) or ((i==1) and (j>2 and j<4)) or ((i==2) and (j>1 and j<3)) or ((i==3) and (j>0 and j<2)):\n",
    "            print(\"*\", end = \" \")\n",
    "        else:\n",
    "            print(end = \"  \")\n",
    "    print()\n"
   ]
  },
  {
   "cell_type": "code",
   "execution_count": null,
   "metadata": {},
   "outputs": [],
   "source": []
  }
 ],
 "metadata": {
  "kernelspec": {
   "display_name": "Python 3",
   "language": "python",
   "name": "python3"
  },
  "language_info": {
   "codemirror_mode": {
    "name": "ipython",
    "version": 3
   },
   "file_extension": ".py",
   "mimetype": "text/x-python",
   "name": "python",
   "nbconvert_exporter": "python",
   "pygments_lexer": "ipython3",
   "version": "3.9.1"
  }
 },
 "nbformat": 4,
 "nbformat_minor": 4
}
