{
 "cells": [
  {
   "cell_type": "code",
   "execution_count": null,
   "metadata": {},
   "outputs": [],
   "source": [
    "#find returns -1 or false\n",
    "#index returns number, if no value, error at substring\n",
    "#split divides in 2 parts if space found, otherwise pass parameter like split(\"@\")\n",
    "#id gives address like id(a)\n",
    "#isspace() checks spaces in string\n",
    "#strings are immutable\n",
    "\n",
    "#replace(\"a\",\"e\") ===== a.replace()\n",
    "#strip() ===== lstrip() ===== rstrip()\n",
    "#print(\"{} has score {} runs\".format(var,score)) ===== var=\"virat\", score = 95"
   ]
  },
  {
   "cell_type": "code",
   "execution_count": 7,
   "metadata": {},
   "outputs": [
    {
     "name": "stdout",
     "output_type": "stream",
     "text": [
      "ASR has score 95 runs\n"
     ]
    }
   ],
   "source": [
    "a = \"ASR\"\n",
    "b = 95\n",
    "print(\"{} has score {} runs\".format(a,b))"
   ]
  },
  {
   "cell_type": "code",
   "execution_count": 22,
   "metadata": {
    "scrolled": false
   },
   "outputs": [],
   "source": [
    "a\n",
    "c = str(5)\n",
    "a+c\n",
    "\n",
    "b = \"gg\"\n",
    "b*5\n",
    "\n",
    "a\n",
    "a.replace(\"A\",\"R\")\n",
    "\n",
    "b = \" ASR asr\"\n",
    "\n"
   ]
  },
  {
   "cell_type": "code",
   "execution_count": 23,
   "metadata": {},
   "outputs": [
    {
     "data": {
      "text/plain": [
       "['1', '2', '3', '4', '5']"
      ]
     },
     "execution_count": 23,
     "metadata": {},
     "output_type": "execute_result"
    }
   ],
   "source": [
    "v_v = \"1 2 3 4 5\"\n",
    "v_v.split()\n"
   ]
  },
  {
   "cell_type": "code",
   "execution_count": null,
   "metadata": {},
   "outputs": [],
   "source": [
    "for i in range(0,5)\n",
    "#start at 0, end at 5\n",
    "for i in range(0,5,2)\n",
    "#step 2 = even, 1 = odd"
   ]
  },
  {
   "cell_type": "code",
   "execution_count": 26,
   "metadata": {},
   "outputs": [
    {
     "name": "stdout",
     "output_type": "stream",
     "text": [
      "0 is even number\n",
      "1 is odd number\n",
      "2 is even number\n",
      "3 is odd number\n",
      "4 is even number\n",
      "5 is odd number\n",
      "6 is even number\n",
      "7 is odd number\n",
      "8 is even number\n",
      "9 is odd number\n",
      "10 is even number\n",
      "11 is odd number\n",
      "12 is even number\n",
      "13 is odd number\n",
      "14 is even number\n",
      "15 is odd number\n",
      "16 is even number\n",
      "17 is odd number\n",
      "18 is even number\n",
      "19 is odd number\n",
      "20 is even number\n",
      "21 is odd number\n",
      "22 is even number\n",
      "23 is odd number\n",
      "24 is even number\n",
      "25 is odd number\n",
      "26 is even number\n",
      "27 is odd number\n",
      "28 is even number\n",
      "29 is odd number\n",
      "30 is even number\n",
      "31 is odd number\n",
      "32 is even number\n",
      "33 is odd number\n",
      "34 is even number\n",
      "35 is odd number\n",
      "36 is even number\n",
      "37 is odd number\n",
      "38 is even number\n",
      "39 is odd number\n",
      "40 is even number\n",
      "41 is odd number\n",
      "42 is even number\n",
      "43 is odd number\n",
      "44 is even number\n",
      "45 is odd number\n",
      "46 is even number\n",
      "47 is odd number\n",
      "48 is even number\n",
      "49 is odd number\n"
     ]
    }
   ],
   "source": [
    "for i in range(0,50,1):\n",
    "    if i%2 == 0:\n",
    "        print(\"{} is even number\".format(i))\n",
    "    else:\n",
    "        print(\"{} is odd number\".format(i))"
   ]
  },
  {
   "cell_type": "code",
   "execution_count": 37,
   "metadata": {},
   "outputs": [
    {
     "name": "stdout",
     "output_type": "stream",
     "text": [
      "210\n"
     ]
    }
   ],
   "source": [
    "a = 0\n",
    "for i in range(1,21):\n",
    "    a = a+ i\n",
    "print(a)"
   ]
  },
  {
   "cell_type": "code",
   "execution_count": 45,
   "metadata": {},
   "outputs": [
    {
     "name": "stdout",
     "output_type": "stream",
     "text": [
      "720\n"
     ]
    }
   ],
   "source": [
    "a = 1\n",
    "for i in range(1,7):\n",
    "    a = a*i\n",
    "print(a)"
   ]
  },
  {
   "cell_type": "code",
   "execution_count": 52,
   "metadata": {},
   "outputs": [
    {
     "name": "stdout",
     "output_type": "stream",
     "text": [
      "* * * * * * \n",
      "* * * * * * \n",
      "* * * * * * \n"
     ]
    }
   ],
   "source": [
    "for row in range(3):\n",
    "    for col in range(6):\n",
    "        print(\"*\", end = \" \")\n",
    "    print()"
   ]
  },
  {
   "cell_type": "code",
   "execution_count": 55,
   "metadata": {},
   "outputs": [
    {
     "name": "stdout",
     "output_type": "stream",
     "text": [
      "* * * \n",
      "* * * \n",
      "* * * \n",
      "* * * \n",
      "* * * \n",
      "* * * \n"
     ]
    }
   ],
   "source": [
    "for row in range(6):\n",
    "    for col in range(3):\n",
    "        print(\"*\", end = \" \")\n",
    "    print()"
   ]
  },
  {
   "cell_type": "code",
   "execution_count": 11,
   "metadata": {},
   "outputs": [
    {
     "name": "stdout",
     "output_type": "stream",
     "text": [
      "* \n",
      "* * \n",
      "* * * \n",
      "* * * * \n"
     ]
    }
   ],
   "source": [
    "a=3\n",
    "for row in range(0,a+1):\n",
    "    #loop for row starting at 0, going till 4(a+1)\n",
    "    \n",
    "    for col in range(0,row+1):\n",
    "        #loop for column starting at 0, going till 4(row value+1)\n",
    "        #value of row is 1, increase by 1 to print 2 stars\n",
    "        \n",
    "        print(\"*\", end = \" \")\n",
    "        #printing * and staying in same line while adding space\n",
    "        \n",
    "    print()\n",
    "    #end line after printing each row    "
   ]
  },
  {
   "cell_type": "code",
   "execution_count": 106,
   "metadata": {},
   "outputs": [
    {
     "name": "stdout",
     "output_type": "stream",
     "text": [
      "* \n",
      "* * * \n",
      "* * * * * \n",
      "* * * * * * * \n",
      "* * * * * * * * * \n"
     ]
    }
   ],
   "source": [
    "a=5\n",
    "b=1\n",
    "for row in range(1,a+1):\n",
    "    for col in range(1,b+1):\n",
    "        print(\"*\", end = \" \")\n",
    "    b+=2\n",
    "    print()"
   ]
  },
  {
   "cell_type": "code",
   "execution_count": 14,
   "metadata": {},
   "outputs": [
    {
     "name": "stdout",
     "output_type": "stream",
     "text": [
      "    * \n",
      "   * * \n",
      "  * * * \n",
      " * * * * \n",
      "* * * * * \n"
     ]
    }
   ],
   "source": [
    "a=5\n",
    "for row in range(0,a):\n",
    "    #range 0 to 4, rows - 0,1,2,3,4\n",
    "    \n",
    "    for col in range(0,a-row-1):\n",
    "        #to find the places where space is to be given that, is (5-0-1=4), range 0 to 4 meaning print space 1 time,\n",
    "        #then again go in loop where value will be (5-1-1=3), again print space\n",
    "        #this continues till all the spaces are filled & control goes to column loop to print *\n",
    "                                                               \n",
    "        print(end=\" \")\n",
    "        #print space & stay in same line\n",
    "        \n",
    "    for col in range(0,row+1):\n",
    "        #range is from 0 to 1 since at start, row value = 0, prints 1 *\n",
    "        \n",
    "        print(\"*\", end = \" \")\n",
    "        #print star\n",
    "        \n",
    "    print() \n",
    "    #exit loop control goes to next line\n",
    "\n",
    "#loop working-\n",
    "#FOR LINE 1--\n",
    "#FIRST LOOP, range starts from (0 to 5-row value-1) == (0 to 5-0-1=4), print 1 space, after all spaces printed, goto column loop\n",
    "#SECOND LOOP,range is from 0 to 1 since at start, row value = 0, prints 1 *\n",
    "#Exit loop to give control to next line\n",
    "\n",
    "#FOR LINE 2--\n",
    "#FIRST LOOP, range starts from (0 to 5-row value-1) == (5-1-1=3), print 1 space, after all spaces printed, goto column loop\n",
    "#SECOND LOOP,range is from 0 to 2 since, new row value = 1, prints 1 * then space"
   ]
  },
  {
   "cell_type": "code",
   "execution_count": 5,
   "metadata": {},
   "outputs": [
    {
     "name": "stdout",
     "output_type": "stream",
     "text": [
      "* * * * * \n",
      " * * * * \n",
      "  * * * \n",
      "   * * \n",
      "    * \n"
     ]
    }
   ],
   "source": [
    "a=5\n",
    "for row in range(a,0,-1):\n",
    "    for col in range(0,a-row):\n",
    "        print(end=\" \")\n",
    "    for col in range(0,row):\n",
    "        print(\"*\", end = \" \")\n",
    "    print()"
   ]
  },
  {
   "cell_type": "code",
   "execution_count": 6,
   "metadata": {},
   "outputs": [
    {
     "name": "stdout",
     "output_type": "stream",
     "text": [
      "    * \n",
      "   * * \n",
      "  * * * \n",
      " * * * * \n",
      "* * * * * \n",
      "* * * * * \n",
      " * * * * \n",
      "  * * * \n",
      "   * * \n",
      "    * \n"
     ]
    }
   ],
   "source": [
    "a=5\n",
    "for row in range(0,a):\n",
    "    for col in range(0,a-row-1):\n",
    "        print(end=\" \")\n",
    "    for col in range(0,row+1):\n",
    "        print(\"*\", end = \" \")\n",
    "    print()\n",
    "for row in range(a,0,-1):\n",
    "    for col in range(0,a-row):\n",
    "        print(end=\" \")\n",
    "    for col in range(0,row):\n",
    "        print(\"*\", end = \" \")\n",
    "    print()"
   ]
  },
  {
   "cell_type": "code",
   "execution_count": 8,
   "metadata": {},
   "outputs": [
    {
     "name": "stdout",
     "output_type": "stream",
     "text": [
      "\n",
      "1 \n",
      "2 2 \n",
      "3 3 3 \n",
      "4 4 4 4 \n"
     ]
    }
   ],
   "source": [
    "a=4\n",
    "for row in range(a+1):\n",
    "    for col in range(row):\n",
    "        print(row, end = \" \")\n",
    "    print()"
   ]
  },
  {
   "cell_type": "code",
   "execution_count": 10,
   "metadata": {},
   "outputs": [
    {
     "name": "stdout",
     "output_type": "stream",
     "text": [
      "1 \n",
      "1 2 \n",
      "1 2 3 \n",
      "1 2 3 4 \n"
     ]
    }
   ],
   "source": [
    "a=4\n",
    "for row in range(1,a+1):\n",
    "    for col in range(1,row+1):\n",
    "        print(col, end = \" \")\n",
    "    print()"
   ]
  },
  {
   "cell_type": "code",
   "execution_count": 5,
   "metadata": {},
   "outputs": [
    {
     "name": "stdout",
     "output_type": "stream",
     "text": [
      "  * * *   \n",
      "*       * \n",
      "*       * \n",
      "* * * * * \n",
      "*       * \n",
      "*       * \n",
      "*       * \n"
     ]
    }
   ],
   "source": [
    "for i in range(7):\n",
    "    for j in range(5):\n",
    "        if((j==0 or j==4) and i!=0) or ((i==0 or i==3) and (j>0 and j<4)):\n",
    "            print(\"*\", end =\" \")\n",
    "        else:\n",
    "            print(end=\"  \")\n",
    "    print()"
   ]
  },
  {
   "cell_type": "code",
   "execution_count": 11,
   "metadata": {},
   "outputs": [
    {
     "name": "stdout",
     "output_type": "stream",
     "text": [
      "          \n",
      "  * * * * \n",
      "  *     * \n",
      "  * * * * \n",
      "  *     * \n",
      "  *     * \n",
      "  *     * \n"
     ]
    }
   ],
   "source": [
    "for i in range(7):\n",
    "    for j in range(5):\n",
    "        if((j==1 or j==4) and i!=0) or ((i==1 or i==3) and (j>0 and j<4)):\n",
    "            print(\"*\", end =\" \")\n",
    "        else:\n",
    "            print(end=\"  \")\n",
    "    print()"
   ]
  },
  {
   "cell_type": "code",
   "execution_count": 1,
   "metadata": {},
   "outputs": [
    {
     "name": "stdout",
     "output_type": "stream",
     "text": [
      "   * * * * \n",
      "   *       * \n",
      "   *       * \n",
      "   * * * * \n",
      "   *       * \n",
      "   *       * \n",
      "   * * * * \n"
     ]
    }
   ],
   "source": [
    "for i in range(7):\n",
    "    for j in range(5):\n",
    "        if((j==1 or j==4)) or ((i==3 or i==6 or i==0) and (j>0 and j<4)):\n",
    "            print(\"*\", end = \" \")\n",
    "        else:\n",
    "            print(end=\"   \")\n",
    "    print()"
   ]
  },
  {
   "cell_type": "code",
   "execution_count": 47,
   "metadata": {},
   "outputs": [
    {
     "name": "stdout",
     "output_type": "stream",
     "text": [
      "* * * * * \n",
      "*          * \n",
      "*          * \n",
      "* * * * * \n",
      "*          * \n",
      "*          * \n",
      "* * * * * \n"
     ]
    }
   ],
   "source": [
    "for i in range(7):\n",
    "    for j in range(5):\n",
    "        if(j==0 or j==4) or ((i==3 or i==6 or i==0) and (j>0 and j<4)):\n",
    "            print(\"*\", end = \" \")\n",
    "        else:\n",
    "            print(end=\"   \")\n",
    "    print()"
   ]
  },
  {
   "cell_type": "code",
   "execution_count": 50,
   "metadata": {},
   "outputs": [
    {
     "data": {
      "text/plain": [
       "list"
      ]
     },
     "execution_count": 50,
     "metadata": {},
     "output_type": "execute_result"
    }
   ],
   "source": [
    "num = [1,55.55,\"abc\"]\n",
    "\n",
    "type(num)\n"
   ]
  },
  {
   "cell_type": "code",
   "execution_count": 49,
   "metadata": {},
   "outputs": [
    {
     "name": "stdout",
     "output_type": "stream",
     "text": [
      "[1, 55.55, 'abc']\n"
     ]
    }
   ],
   "source": [
    "print(num)"
   ]
  },
  {
   "cell_type": "code",
   "execution_count": 51,
   "metadata": {},
   "outputs": [
    {
     "data": {
      "text/plain": [
       "['abc', 55.55, 1]"
      ]
     },
     "execution_count": 51,
     "metadata": {},
     "output_type": "execute_result"
    }
   ],
   "source": [
    "num[::-1]"
   ]
  },
  {
   "cell_type": "code",
   "execution_count": 53,
   "metadata": {},
   "outputs": [
    {
     "data": {
      "text/plain": [
       "[1, 2, 3, 4, 5, 6]"
      ]
     },
     "execution_count": 53,
     "metadata": {},
     "output_type": "execute_result"
    }
   ],
   "source": [
    "n1 = [1,2,3]\n",
    "n2 = [4,5,6]\n",
    "n1+n2"
   ]
  },
  {
   "cell_type": "code",
   "execution_count": 54,
   "metadata": {},
   "outputs": [
    {
     "data": {
      "text/plain": [
       "'gello'"
      ]
     },
     "execution_count": 54,
     "metadata": {},
     "output_type": "execute_result"
    }
   ],
   "source": [
    "n1 = [\"Hello\"]\n",
    "n2 = [\"gello\",1]\n",
    "n2[0]"
   ]
  },
  {
   "cell_type": "code",
   "execution_count": 56,
   "metadata": {},
   "outputs": [
    {
     "data": {
      "text/plain": [
       "['Hello', 1]"
      ]
     },
     "execution_count": 56,
     "metadata": {},
     "output_type": "execute_result"
    }
   ],
   "source": [
    "n2[0]=\"Hello\"\n",
    "n2"
   ]
  },
  {
   "cell_type": "code",
   "execution_count": 57,
   "metadata": {},
   "outputs": [
    {
     "data": {
      "text/plain": [
       "6"
      ]
     },
     "execution_count": 57,
     "metadata": {},
     "output_type": "execute_result"
    }
   ],
   "source": [
    "n1 = [\"Hello\",1,2,3,555.5,\"ggg\"]\n",
    "len(n1)"
   ]
  },
  {
   "cell_type": "code",
   "execution_count": 59,
   "metadata": {},
   "outputs": [
    {
     "data": {
      "text/plain": [
       "['Hello', 1, 2, 3, 555.5, 'ggg', 'python']"
      ]
     },
     "execution_count": 59,
     "metadata": {},
     "output_type": "execute_result"
    }
   ],
   "source": [
    "n1.append('python')\n",
    "n1"
   ]
  },
  {
   "cell_type": "code",
   "execution_count": null,
   "metadata": {},
   "outputs": [],
   "source": [
    "#append takes 1 value"
   ]
  },
  {
   "cell_type": "code",
   "execution_count": 60,
   "metadata": {},
   "outputs": [
    {
     "data": {
      "text/plain": [
       "['Hello', 1, 2, 3, 555.5, 'ggg', 'python', 44, 'hh']"
      ]
     },
     "execution_count": 60,
     "metadata": {},
     "output_type": "execute_result"
    }
   ],
   "source": [
    "n1.extend([44,'hh'])\n",
    "n1"
   ]
  },
  {
   "cell_type": "code",
   "execution_count": 82,
   "metadata": {},
   "outputs": [
    {
     "data": {
      "text/plain": [
       "[[55], 1, 2, 3, 555.5, 'ggg', 'python', 44, 'hh']"
      ]
     },
     "execution_count": 82,
     "metadata": {},
     "output_type": "execute_result"
    }
   ],
   "source": [
    "n1[0]= [55]\n",
    "n1"
   ]
  },
  {
   "cell_type": "code",
   "execution_count": 2,
   "metadata": {},
   "outputs": [
    {
     "name": "stdout",
     "output_type": "stream",
     "text": [
      "55\n"
     ]
    }
   ],
   "source": [
    "a = int(input())"
   ]
  },
  {
   "cell_type": "code",
   "execution_count": 3,
   "metadata": {},
   "outputs": [
    {
     "data": {
      "text/plain": [
       "55"
      ]
     },
     "execution_count": 3,
     "metadata": {},
     "output_type": "execute_result"
    }
   ],
   "source": [
    "a"
   ]
  },
  {
   "cell_type": "code",
   "execution_count": null,
   "metadata": {},
   "outputs": [],
   "source": []
  }
 ],
 "metadata": {
  "kernelspec": {
   "display_name": "Python 3",
   "language": "python",
   "name": "python3"
  },
  "language_info": {
   "codemirror_mode": {
    "name": "ipython",
    "version": 3
   },
   "file_extension": ".py",
   "mimetype": "text/x-python",
   "name": "python",
   "nbconvert_exporter": "python",
   "pygments_lexer": "ipython3",
   "version": "3.9.1"
  }
 },
 "nbformat": 4,
 "nbformat_minor": 4
}
