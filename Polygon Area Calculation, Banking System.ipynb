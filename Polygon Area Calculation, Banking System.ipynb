{
 "cells": [
  {
   "cell_type": "code",
   "execution_count": 1,
   "metadata": {},
   "outputs": [
    {
     "name": "stdout",
     "output_type": "stream",
     "text": [
      "*** POLYGON ***\n"
     ]
    }
   ],
   "source": [
    "print(\"*** POLYGON ***\")\n",
    "class Polygon:\n",
    "    \n",
    "    a = 0\n",
    "    sel = \"\"\n",
    "    area = 0\n",
    "    peri = 0\n",
    "    l = 0\n",
    "    w = 0\n",
    "    def __init__(self,side):\n",
    "        self.a = print(\"Pre Defined sides =\",self.a)\n",
    "        self.side = side\n",
    "        if self.side == 3:\n",
    "            print(\"\\nTriangle Selected\")\n",
    "        elif self.side == 4:\n",
    "            print(\"\\n2 Options available - Square or Rectangle\")\n",
    "            print(\"\\nFor Square press 'S' & For Rectangle press 'R'\")\n",
    "            self.sel = input(\"Press the key of your choice - \")\n",
    "            if self.sel == 'S':\n",
    "                print(\"\\nSquare Selected\")\n",
    "            elif self.sel == 'R':\n",
    "                print(\"\\nRectangle Selected\")\n",
    "        else:\n",
    "            print(\"\\nOUT OF BOUNDS\")\n",
    "        \n",
    "class Triangle(Polygon):\n",
    "    \n",
    "    def __init__(self):\n",
    "        print(\"Calculating Area & Perimeter Triangle\")\n",
    "        self.t_b = int(input(\"Enter Base - \"))\n",
    "        self.t_h = int(input(\"Enter Height - \"))\n",
    "    \n",
    "    def ar(self):\n",
    "        self.area = (self.t_b*self.t_h)/2\n",
    "    \n",
    "    def perim(self):\n",
    "        self.peri = self.t_b*3\n",
    "    \n",
    "    def display(self):\n",
    "        print(\"Area = \",self.area)\n",
    "        print(\"Perimeter = \",self.peri)\n",
    "    \n",
    "class Square(Polygon):\n",
    "    \n",
    "    def __init__(self):\n",
    "        print(\"Calculating Area & Perimeter of Square\")\n",
    "        self.side = int(input(\"Enter Side(cm) - \"))\n",
    "    \n",
    "    def ar(self):\n",
    "        self.area = self.side**2\n",
    "    \n",
    "    def perim(self):\n",
    "        self.peri = 4*self.side\n",
    "    \n",
    "    def display(self):\n",
    "        print(\"Area = \",self.area)\n",
    "        print(\"Perimeter = \",self.peri)\n",
    "\n",
    "class Rectangle(Polygon):\n",
    "    \n",
    "    def __init__(self):\n",
    "        print(\"Calculating Area & Perimeter of Rectangle\")\n",
    "        self.l = int(input(\"Enter Length - \"))\n",
    "        self.w = int(input(\"Enter Width - \"))\n",
    "    \n",
    "    def ar(self):\n",
    "        self.area = self.l*self.w\n",
    "    \n",
    "    def perim(self):\n",
    "        self.peri = (self.l+self.w)*2\n",
    "    \n",
    "    def display(self):\n",
    "        print(\"Area = \",self.area)\n",
    "        print(\"Perimeter = \",self.peri)"
   ]
  },
  {
   "cell_type": "code",
   "execution_count": 2,
   "metadata": {},
   "outputs": [
    {
     "name": "stdout",
     "output_type": "stream",
     "text": [
      "Enter Sides - 4\n",
      "Pre Defined sides = 0\n",
      "\n",
      "2 Options available - Square or Rectangle\n",
      "\n",
      "For Square press 'S' & For Rectangle press 'R'\n",
      "Press the key of your choice - S\n",
      "\n",
      "Square Selected\n"
     ]
    }
   ],
   "source": [
    "p_p=int(input(\"Enter Sides - \"))\n",
    "p1 = Polygon(p_p)"
   ]
  },
  {
   "cell_type": "code",
   "execution_count": 3,
   "metadata": {},
   "outputs": [
    {
     "name": "stdout",
     "output_type": "stream",
     "text": [
      "Calculating Area & Perimeter Triangle\n",
      "Enter Base - 5\n",
      "Enter Height - 4\n"
     ]
    }
   ],
   "source": [
    "t1 = Triangle()"
   ]
  },
  {
   "cell_type": "code",
   "execution_count": 5,
   "metadata": {},
   "outputs": [],
   "source": [
    "t1.ar()"
   ]
  },
  {
   "cell_type": "code",
   "execution_count": 6,
   "metadata": {},
   "outputs": [],
   "source": [
    "t1.perim()"
   ]
  },
  {
   "cell_type": "code",
   "execution_count": 7,
   "metadata": {},
   "outputs": [
    {
     "name": "stdout",
     "output_type": "stream",
     "text": [
      "Area =  10.0\n",
      "Perimeter =  15\n"
     ]
    }
   ],
   "source": [
    "t1.display()"
   ]
  },
  {
   "cell_type": "code",
   "execution_count": 8,
   "metadata": {},
   "outputs": [
    {
     "name": "stdout",
     "output_type": "stream",
     "text": [
      "Calculating Area & Perimeter of Square\n",
      "Enter Side(cm) - 10\n"
     ]
    }
   ],
   "source": [
    "s1 = Square()"
   ]
  },
  {
   "cell_type": "code",
   "execution_count": 9,
   "metadata": {},
   "outputs": [],
   "source": [
    "s1.ar()"
   ]
  },
  {
   "cell_type": "code",
   "execution_count": 10,
   "metadata": {},
   "outputs": [],
   "source": [
    "s1.perim()"
   ]
  },
  {
   "cell_type": "code",
   "execution_count": 11,
   "metadata": {},
   "outputs": [
    {
     "name": "stdout",
     "output_type": "stream",
     "text": [
      "Area =  100\n",
      "Perimeter =  40\n"
     ]
    }
   ],
   "source": [
    "s1.display()"
   ]
  },
  {
   "cell_type": "code",
   "execution_count": 12,
   "metadata": {},
   "outputs": [
    {
     "name": "stdout",
     "output_type": "stream",
     "text": [
      "Calculating Area & Perimeter of Rectangle\n",
      "Enter Length - 12\n",
      "Enter Width - 10\n"
     ]
    }
   ],
   "source": [
    "r1 = Rectangle()"
   ]
  },
  {
   "cell_type": "code",
   "execution_count": 13,
   "metadata": {},
   "outputs": [],
   "source": [
    "r1.ar()"
   ]
  },
  {
   "cell_type": "code",
   "execution_count": 14,
   "metadata": {},
   "outputs": [],
   "source": [
    "r1.perim()"
   ]
  },
  {
   "cell_type": "code",
   "execution_count": 15,
   "metadata": {},
   "outputs": [
    {
     "name": "stdout",
     "output_type": "stream",
     "text": [
      "Area =  120\n",
      "Perimeter =  44\n"
     ]
    }
   ],
   "source": [
    "r1.display()"
   ]
  },
  {
   "cell_type": "code",
   "execution_count": 16,
   "metadata": {},
   "outputs": [],
   "source": [
    "class Polygon:\n",
    "    def __init__(self,n):\n",
    "        self.sides = n\n",
    "        self.l_side = [0 for i in range(n)]\n",
    "    \n",
    "    def input_sides(self):\n",
    "        self.l_side.clear()\n",
    "        for i in range(self.sides):\n",
    "            var = int(input(\"Enter the length of the side - \"))\n",
    "            self.l_side.insert(i,var)\n",
    "    \n",
    "    def perimeter(self):\n",
    "        return sum(self.l_side)\n",
    "    \n",
    "    def display(self):\n",
    "        print(\"Side {} is {}\",format(i+1,self.l_side[i]))\n",
    "        \n",
    "class Triangle(Polygon):\n",
    "    def __init__(self):\n",
    "        super().__init__(3)\n",
    "    \n",
    "    def area(self):\n",
    "        s = sum(self.l_side)/2\n",
    "        ar = s\n",
    "        for i in self.l_side:\n",
    "            ar*=s-i\n",
    "        return ar**0.5"
   ]
  },
  {
   "cell_type": "code",
   "execution_count": 17,
   "metadata": {},
   "outputs": [],
   "source": [
    "p1 = Polygon(5)"
   ]
  },
  {
   "cell_type": "code",
   "execution_count": 18,
   "metadata": {},
   "outputs": [
    {
     "name": "stdout",
     "output_type": "stream",
     "text": [
      "Enter the length of the side - 3\n",
      "Enter the length of the side - 22\n",
      "Enter the length of the side - 25\n",
      "Enter the length of the side - 26\n",
      "Enter the length of the side - 27\n"
     ]
    }
   ],
   "source": [
    "p1.input_sides()"
   ]
  },
  {
   "cell_type": "code",
   "execution_count": 19,
   "metadata": {},
   "outputs": [
    {
     "data": {
      "text/plain": [
       "103"
      ]
     },
     "execution_count": 19,
     "metadata": {},
     "output_type": "execute_result"
    }
   ],
   "source": [
    "p1.perimeter()"
   ]
  },
  {
   "cell_type": "code",
   "execution_count": 20,
   "metadata": {},
   "outputs": [],
   "source": [
    "t1 = Triangle()"
   ]
  },
  {
   "cell_type": "code",
   "execution_count": 21,
   "metadata": {},
   "outputs": [
    {
     "data": {
      "text/plain": [
       "[0, 0, 0]"
      ]
     },
     "execution_count": 21,
     "metadata": {},
     "output_type": "execute_result"
    }
   ],
   "source": [
    "t1.l_side"
   ]
  },
  {
   "cell_type": "code",
   "execution_count": 22,
   "metadata": {},
   "outputs": [
    {
     "name": "stdout",
     "output_type": "stream",
     "text": [
      "Enter the length of the side - 12\n",
      "Enter the length of the side - 14\n",
      "Enter the length of the side - 16\n"
     ]
    }
   ],
   "source": [
    "t1.input_sides()"
   ]
  },
  {
   "cell_type": "code",
   "execution_count": 23,
   "metadata": {},
   "outputs": [
    {
     "data": {
      "text/plain": [
       "42"
      ]
     },
     "execution_count": 23,
     "metadata": {},
     "output_type": "execute_result"
    }
   ],
   "source": [
    "t1.perimeter()"
   ]
  },
  {
   "cell_type": "code",
   "execution_count": 24,
   "metadata": {},
   "outputs": [
    {
     "data": {
      "text/plain": [
       "81.33265027035576"
      ]
     },
     "execution_count": 24,
     "metadata": {},
     "output_type": "execute_result"
    }
   ],
   "source": [
    "t1.area()"
   ]
  },
  {
   "cell_type": "code",
   "execution_count": 25,
   "metadata": {},
   "outputs": [],
   "source": [
    "class Bank:\n",
    "    \n",
    "    acc_n = 0\n",
    "    name = \"\"\n",
    "    pin = 0\n",
    "    bal = 0\n",
    "    amt = 0\n",
    "    n_type = 0\n",
    "    def __init__(self,start_amount):\n",
    "        self.s_a = start_amount\n",
    "        self.acc_n = int(input(\"Enter the account no :\"))\n",
    "        self.name = input(\"Enter the account holder name :\")\n",
    "        self.pin = input(\"Enter PIN(4 digits)\")\n",
    "        if len(self.pin)>4:\n",
    "            print(\"Invalid\")\n",
    "        else:\n",
    "            print(\"Valid\\n\")\n",
    "            print(\"Initial Balance - \",self.s_a)\n",
    "            self.bal = int(input(\"Enter the first amount to deposit - \"))\n",
    "            print(\"\\n** Account Created **\")\n",
    "    \n",
    "    def display(self):\n",
    "        print(\"Account Number : \",self.acc_n)\n",
    "        print(\"Account Holder Name : \", self.name)\n",
    "        print(\"Account Balance : \", self.bal)\n",
    "    \n",
    "    def inpt1(self):\n",
    "        self.amt = int(input(\"Enter the amount you want to Deposit - \"))\n",
    "    def inpt2(self):\n",
    "        self.amt = int(input(\"Enter the amount you want to Withdraw - \"))\n",
    "        self.n_type = int(input(\"Enter the denomination you want your amount in - \"))\n",
    "        \n",
    "\n",
    "class Banking(Bank):\n",
    "    def __init__(self):\n",
    "        super().__init__(0)\n",
    "        \n",
    "    def dep(self):\n",
    "        print(\"Balance Before Deposit = \",self.bal)\n",
    "        print(\"Amount Deposited = \",self.amt)\n",
    "        self.bal+=self.amt\n",
    "        print(\"Balance After Deposit = \",self.bal)\n",
    "        \n",
    "    def wid(self):\n",
    "        if self.n_type%500 == 0 or self.n_type%2000 == 0:\n",
    "            if self.bal >= self.amt:\n",
    "                print(\"Balance Before Withdrawl = \",self.bal)\n",
    "                print(\"Amount Withdrawned = \",self.amt)\n",
    "                self.bal -= self.amt \n",
    "                print(\"Balance After Withdrawl:\",self.bal) \n",
    "            else: \n",
    "                print(\"Insufficient balance\")\n",
    "        else:\n",
    "            print(\"Transaction Failed\")\n"
   ]
  },
  {
   "cell_type": "code",
   "execution_count": 26,
   "metadata": {},
   "outputs": [
    {
     "name": "stdout",
     "output_type": "stream",
     "text": [
      "Enter the account no :1234\n",
      "Enter the account holder name :kkk\n",
      "Enter PIN(4 digits)4454\n",
      "Valid\n",
      "\n",
      "Initial Balance -  0\n",
      "Enter the first amount to deposit - 6000\n",
      "\n",
      "** Account Created **\n"
     ]
    }
   ],
   "source": [
    "b1 = Banking()"
   ]
  },
  {
   "cell_type": "code",
   "execution_count": 27,
   "metadata": {},
   "outputs": [
    {
     "name": "stdout",
     "output_type": "stream",
     "text": [
      "Account Number :  1234\n",
      "Account Holder Name :  kkk\n",
      "Account Balance :  6000\n"
     ]
    }
   ],
   "source": [
    "b1.display()"
   ]
  },
  {
   "cell_type": "code",
   "execution_count": 28,
   "metadata": {},
   "outputs": [
    {
     "name": "stdout",
     "output_type": "stream",
     "text": [
      "Enter the amount you want to Deposit - 4000\n"
     ]
    }
   ],
   "source": [
    "b1.inpt1()"
   ]
  },
  {
   "cell_type": "code",
   "execution_count": 29,
   "metadata": {},
   "outputs": [
    {
     "name": "stdout",
     "output_type": "stream",
     "text": [
      "Balance Before Deposit =  6000\n",
      "Amount Deposited =  4000\n",
      "Balance After Deposit =  10000\n"
     ]
    }
   ],
   "source": [
    "b1.dep()"
   ]
  },
  {
   "cell_type": "code",
   "execution_count": 30,
   "metadata": {},
   "outputs": [
    {
     "name": "stdout",
     "output_type": "stream",
     "text": [
      "Enter the amount you want to Withdraw - 8000\n",
      "Enter the denomination you want your amount in - 2000\n"
     ]
    }
   ],
   "source": [
    "b1.inpt2()"
   ]
  },
  {
   "cell_type": "code",
   "execution_count": 31,
   "metadata": {},
   "outputs": [
    {
     "name": "stdout",
     "output_type": "stream",
     "text": [
      "Balance Before Withdrawl =  10000\n",
      "Amount Withdrawned =  8000\n",
      "Balance After Withdrawl: 2000\n"
     ]
    }
   ],
   "source": [
    "b1.wid()"
   ]
  },
  {
   "cell_type": "code",
   "execution_count": 32,
   "metadata": {},
   "outputs": [],
   "source": [
    "class stu:\n",
    "    \n",
    "    def __init__(self,m1,m2):\n",
    "        self.m1 = m1\n",
    "        self.m2 = m2\n",
    "        \n",
    "    def __add__(self,other):\n",
    "        r1 = self.m1 + other.m1\n",
    "        r2 = self.m2 + other.m2\n",
    "        s3 = stu(r1,r2)\n",
    "        return s3\n",
    "        \n",
    "    def __gt__(self,other):\n",
    "        s_1 = self.m1+self.m2\n",
    "        s_2 = other.m1+other.m2\n",
    "        if s_1>s_2:\n",
    "            return True\n",
    "        else:\n",
    "            return False\n",
    "    \n",
    "    def __str__(self):\n",
    "        return \"{} {}\".format(self.m1,self.m2)"
   ]
  },
  {
   "cell_type": "code",
   "execution_count": 33,
   "metadata": {},
   "outputs": [
    {
     "name": "stdout",
     "output_type": "stream",
     "text": [
      "Student 2 wins\n"
     ]
    }
   ],
   "source": [
    "s1 = stu(24,55)\n",
    "s2 = stu(55,55)\n",
    "if s1>s2:\n",
    "    print(\"Student 1 wins\")\n",
    "else:\n",
    "    print(\"Student 2 wins\")"
   ]
  },
  {
   "cell_type": "code",
   "execution_count": null,
   "metadata": {},
   "outputs": [],
   "source": []
  }
 ],
 "metadata": {
  "kernelspec": {
   "display_name": "Python 3",
   "language": "python",
   "name": "python3"
  },
  "language_info": {
   "codemirror_mode": {
    "name": "ipython",
    "version": 3
   },
   "file_extension": ".py",
   "mimetype": "text/x-python",
   "name": "python",
   "nbconvert_exporter": "python",
   "pygments_lexer": "ipython3",
   "version": "3.9.1"
  }
 },
 "nbformat": 4,
 "nbformat_minor": 4
}
