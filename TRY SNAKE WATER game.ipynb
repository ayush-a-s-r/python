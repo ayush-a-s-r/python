{
 "cells": [
  {
   "cell_type": "code",
   "execution_count": 2,
   "metadata": {},
   "outputs": [
    {
     "name": "stdout",
     "output_type": "stream",
     "text": [
      "SNAKE-WATER-GUN GAME\n",
      "Enter number of rounds: 3\n",
      "\n",
      "Round 1\n",
      "Enter Your Choice - \n",
      "For Snake press 'S', For Water press 'W' & For Gun press 'G'\n",
      "W\n",
      "User won 1 rounds\n",
      "\n",
      "Round 2\n",
      "Enter Your Choice - \n",
      "For Snake press 'S', For Water press 'W' & For Gun press 'G'\n",
      "G\n",
      "User won 2 rounds\n",
      "\n",
      "Round 3\n",
      "Enter Your Choice - \n",
      "For Snake press 'S', For Water press 'W' & For Gun press 'G'\n",
      "S\n",
      "User won 3 rounds\n",
      "Congratulations!! You Won\n"
     ]
    }
   ],
   "source": [
    "import random\n",
    "\n",
    "print(\"SNAKE-WATER-GUN GAME\") \n",
    "n = int(input('Enter number of rounds: ')) \n",
    "a = [\"S\",\"W\",\"G\"]\n",
    "r = 1\n",
    "u_w = 0\n",
    "c_w = 0\n",
    "while r<=n:\n",
    "    print(\"\\nRound {}\".format(r))\n",
    "    print(\"Enter Your Choice - \")\n",
    "    p = input(\"For Snake press 'S', For Water press 'W' & For Gun press 'G'\\n\")\n",
    "    comp = random.choice(a)\n",
    "    if comp == \"S\": \n",
    "        if p == \"W\": \n",
    "            c_w += 1\n",
    "        elif p == \"G\": \n",
    "            u_w += 1\n",
    "    elif comp == \"W\":\n",
    "        if p == \"G\":\n",
    "            c_w += 1\n",
    "        elif p == \"S\":\n",
    "            u_w += 1\n",
    "    elif comp == \"G\":\n",
    "        if p == \"S\":\n",
    "            c_w += 1\n",
    "        elif p == \"W\":\n",
    "            u_w += 1\n",
    "    if u_w > c_w:\n",
    "        print(\"User won {} rounds\".format(r))\n",
    "    elif c_w > u_w:\n",
    "        print(\"System won {} rounds\".format(r))\n",
    "    else:\n",
    "        print(\"Draw\")\n",
    "    r += 1\n",
    "if u_w > c_w: \n",
    "    print(\"\\nCongratulations!! You Won\") \n",
    "elif c_w > u_w: \n",
    "    print(\"\\nYou lose!!\") \n",
    "else: \n",
    "    print(\"\\nMatch Draw!!\")"
   ]
  },
  {
   "cell_type": "code",
   "execution_count": null,
   "metadata": {},
   "outputs": [],
   "source": []
  },
  {
   "cell_type": "code",
   "execution_count": null,
   "metadata": {},
   "outputs": [],
   "source": []
  }
 ],
 "metadata": {
  "kernelspec": {
   "display_name": "Python 3",
   "language": "python",
   "name": "python3"
  },
  "language_info": {
   "codemirror_mode": {
    "name": "ipython",
    "version": 3
   },
   "file_extension": ".py",
   "mimetype": "text/x-python",
   "name": "python",
   "nbconvert_exporter": "python",
   "pygments_lexer": "ipython3",
   "version": "3.9.1"
  }
 },
 "nbformat": 4,
 "nbformat_minor": 4
}
