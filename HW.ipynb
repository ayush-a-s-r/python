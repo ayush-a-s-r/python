{
 "cells": [
  {
   "cell_type": "code",
   "execution_count": 1,
   "metadata": {},
   "outputs": [
    {
     "name": "stdout",
     "output_type": "stream",
     "text": [
      "Conversion from inch to centimeter\n"
     ]
    },
    {
     "data": {
      "text/plain": [
       "185.0"
      ]
     },
     "execution_count": 1,
     "metadata": {},
     "output_type": "execute_result"
    }
   ],
   "source": [
    "def conv1(a):\n",
    "    print(\"Conversion from inch to centimeter\")\n",
    "    if a == 0:\n",
    "        return \"Incorrect Value\"\n",
    "    else:\n",
    "        return a*2.5\n",
    "conv1(74)"
   ]
  },
  {
   "cell_type": "code",
   "execution_count": 3,
   "metadata": {},
   "outputs": [
    {
     "data": {
      "text/plain": [
       "False"
      ]
     },
     "execution_count": 3,
     "metadata": {},
     "output_type": "execute_result"
    }
   ],
   "source": [
    "def splice(text):\n",
    "    if len(text)%2==0:\n",
    "        return True\n",
    "    else:\n",
    "        return False\n",
    "splice(\"ASR\")"
   ]
  },
  {
   "cell_type": "code",
   "execution_count": 4,
   "metadata": {},
   "outputs": [
    {
     "data": {
      "text/plain": [
       "['Trap', 'Nation', 'Genres']"
      ]
     },
     "execution_count": 4,
     "metadata": {},
     "output_type": "execute_result"
    }
   ],
   "source": [
    "a_b = [\"ASR\",\"Tokyo\",\"Trap\",\"Microsoft\",\"Nation\",\"Genres\"]\n",
    "s = []\n",
    "for i in a_b:\n",
    "    if splice(i):\n",
    "        s.append(i)\n",
    "    else:\n",
    "        pass\n",
    "s"
   ]
  },
  {
   "cell_type": "code",
   "execution_count": 5,
   "metadata": {},
   "outputs": [
    {
     "name": "stdout",
     "output_type": "stream",
     "text": [
      "Names are -- \n",
      "['Gurpreet Singh', 'Prabhjeet Singh']\n"
     ]
    }
   ],
   "source": [
    "xyc = [\"A.S.R\",\"Aman\",\"Gurpreet Singh\",\"Prabhjeet Singh\",\"ASR\",\"A. Sharma\",\"B. Sharma\"]\n",
    "last = \"Singh\"\n",
    "v=0\n",
    "l1=[]\n",
    "for i in xyc:\n",
    "    l = i.split()[-1]\n",
    "    if l==last:\n",
    "        v=1\n",
    "        l1.append(i)\n",
    "    else:\n",
    "        next\n",
    "if v==0:\n",
    "    print(\"Not Found\")\n",
    "else:\n",
    "    print(\"Names are -- \")\n",
    "    print(l1)"
   ]
  },
  {
   "cell_type": "code",
   "execution_count": 9,
   "metadata": {},
   "outputs": [
    {
     "name": "stdout",
     "output_type": "stream",
     "text": [
      "Attributes of This Human are --  MALE \n",
      "Legs = 2, Eyes = 2, Ears = 2, Hands = 2, Nose = 1\n",
      "\n",
      "Attributes of This Human are --  FEMALE \n",
      "Legs = 2, Eyes = 2, Ears = 2, Hands = 2, Nose = 1\n",
      "\n",
      "Attributes of This Human are --  CHILD \n",
      "Legs = 2, Eyes = 2, Ears = 1, Hands = 2, Nose = 1\n"
     ]
    }
   ],
   "source": [
    "class human:\n",
    "    def __init__(self,gender,legs,eyes,hands,ears,nose):\n",
    "        self.gender = gender\n",
    "        self.legs = legs\n",
    "        self.eyes = eyes\n",
    "        self.hands = hands\n",
    "        self.ears = ears\n",
    "        self.nose = nose\n",
    "    def attrib(self):\n",
    "        print(\"Attributes of This Human are -- \",self.gender,self.legs,self.eyes,self.hands,self.ears,self.nose)\n",
    "\n",
    "h1 = human(\"MALE\",\"\\nLegs = 2,\",\"Eyes = 2,\",\"Ears = 2,\",\"Hands = 2,\",\"Nose = 1\\n\")\n",
    "h2 = human(\"FEMALE\",\"\\nLegs = 2,\",\"Eyes = 2,\",\"Ears = 2,\",\"Hands = 2,\",\"Nose = 1\\n\")\n",
    "h3 = human(\"CHILD\",\"\\nLegs = 2,\",\"Eyes = 2,\",\"Ears = 1,\",\"Hands = 2,\",\"Nose = 1\")\n",
    "h1.attrib()\n",
    "h2.attrib()\n",
    "h3.attrib()"
   ]
  },
  {
   "cell_type": "markdown",
   "metadata": {},
   "source": [
    "# CAR Only"
   ]
  },
  {
   "cell_type": "code",
   "execution_count": 10,
   "metadata": {},
   "outputs": [
    {
     "name": "stdout",
     "output_type": "stream",
     "text": [
      "Wheels = 4\n",
      "\n",
      "Car Info is as follows - \n",
      "TYPE -  SEDAN \n",
      "Color -  White \n",
      "Price -  450000\n",
      "\n",
      "Car Info is as follows - \n",
      "TYPE -  SUV \n",
      "Color -  Red \n",
      "Price -  1200000\n"
     ]
    }
   ],
   "source": [
    "class cars:\n",
    "    def __init__(self,types,color,price):\n",
    "        self.types = types\n",
    "        self.color = color\n",
    "        self.price = price\n",
    "    def typ(self):\n",
    "        print(\"\\nCar Info is as follows -\",\"\\nTYPE - \",self.types,\"\\nColor - \",self.color,\"\\nPrice - \",self.price)\n",
    "print(\"Wheels = 4\")\n",
    "c1 = cars(\"SEDAN\",\"White\",450000)\n",
    "c2 = cars(\"SUV\",\"Red\",1200000)\n",
    "c1.typ()\n",
    "c2.typ()"
   ]
  },
  {
   "cell_type": "markdown",
   "metadata": {},
   "source": [
    "# CAR - RTO & INSURANCE"
   ]
  },
  {
   "cell_type": "code",
   "execution_count": 11,
   "metadata": {},
   "outputs": [
    {
     "name": "stdout",
     "output_type": "stream",
     "text": [
      "Wheels = 4\n",
      "\n",
      "Car Info is as follows - SEDAN \n",
      "Color - White \n",
      "Price -  450000\n",
      "RTO = 3500 ,Insurance = 1200\n",
      "\n",
      "Car Info is as follows - SUV \n",
      "Color - Red \n",
      "Price -  1200000\n",
      "RTO = 3750 ,Insurance = 1400\n"
     ]
    }
   ],
   "source": [
    "class cars:\n",
    "    rto = 0\n",
    "    ins = 0\n",
    "    def __init__(self,types,color,price):\n",
    "        self.types = types\n",
    "        self.color = color\n",
    "        self.price = price\n",
    "    def typ(self):\n",
    "        print(\"\\nCar Info is as follows -\",self.types,self.color,\"\\nPrice - \",self.price)\n",
    "    def extra(self):\n",
    "        if self.price>100000 and self.price<600000:\n",
    "            cars.rto = 3500\n",
    "            cars.ins = 1200\n",
    "            print(\"RTO =\",cars.rto,\",Insurance =\",cars.ins)\n",
    "        elif self.price>600000 and self.price <1500000:\n",
    "            cars.rto = 3750\n",
    "            cars.ins = 1400\n",
    "            print(\"RTO =\",cars.rto,\",Insurance =\",cars.ins)\n",
    "print(\"Wheels = 4\")\n",
    "c1 = cars(\"SEDAN\",\"\\nColor - White\",450000)\n",
    "c2 = cars(\"SUV\",\"\\nColor - Red\",1200000)\n",
    "c1.typ()\n",
    "c1.extra()\n",
    "c2.typ()\n",
    "c2.extra()"
   ]
  },
  {
   "cell_type": "code",
   "execution_count": 12,
   "metadata": {},
   "outputs": [
    {
     "name": "stdout",
     "output_type": "stream",
     "text": [
      "Name =  ASR \n",
      "Department =  Backend \n",
      "Salary =  780000000 \n",
      "\n",
      "Name =  DAR \n",
      "Department =  HM \n",
      "Salary =  54120 \n",
      "\n",
      "Total employees =  2\n"
     ]
    }
   ],
   "source": [
    "class emp:\n",
    "    count = 0\n",
    "    def __init__(self,name,dept,salary):\n",
    "        self.name = name\n",
    "        self.dept = dept\n",
    "        self.salary = salary\n",
    "        emp.count += 1\n",
    "    def details(self):\n",
    "        print(\"Name = \",self.name,\"\\nDepartment = \",self.dept,\"\\nSalary = \",self.salary,\"\\n\")\n",
    "        \n",
    "e1 = emp(\"ASR\",\"Backend\",780000000)\n",
    "e2 = emp(\"DAR\",\"HM\",54120)\n",
    "e1.details()\n",
    "e2.details()\n",
    "print(\"Total employees = \",emp.count)"
   ]
  },
  {
   "cell_type": "code",
   "execution_count": 13,
   "metadata": {},
   "outputs": [
    {
     "name": "stdout",
     "output_type": "stream",
     "text": [
      "ASR\n",
      "Age = 24\n",
      "QWE\n",
      "Age = 26\n",
      "\n",
      "Comparing age -\n",
      "Not Same\n"
     ]
    }
   ],
   "source": [
    "class person:\n",
    "    def __init__(self):\n",
    "        self.name = \"ASR\"\n",
    "        self.age = 24\n",
    "    def update(self):\n",
    "        self.age = 26\n",
    "    def compare(self,other):\n",
    "        if self.age == other.age:\n",
    "            return True\n",
    "        else:\n",
    "            return False\n",
    "\n",
    "p1 = person()\n",
    "p2 = person()\n",
    "p2.update()\n",
    "print(p1.name)\n",
    "print(\"Age =\",p1.age)\n",
    "p2.name = \"QWE\"\n",
    "print(p2.name)\n",
    "print(\"Age =\",p2.age)\n",
    "\n",
    "print(\"\\nComparing age -\")\n",
    "\n",
    "if p1.compare(p2):\n",
    "    print(\"Same\")\n",
    "else:\n",
    "    print(\"Not Same\")"
   ]
  },
  {
   "cell_type": "markdown",
   "metadata": {},
   "source": [
    "# HW -\n",
    "EMPLOYEE - INFO, EXPERIENCE--if inc by 1 yr, salary + 20%, info() to check info\n",
    "\n",
    "STUDENT - MARKS, compare--who has higher marks, winner-loser"
   ]
  },
  {
   "cell_type": "code",
   "execution_count": 14,
   "metadata": {},
   "outputs": [],
   "source": [
    "class student:\n",
    "    def __init__(self,m1,m2,m3):\n",
    "        self.m1=m1\n",
    "        self.m2=m2\n",
    "        self.m3=m3\n",
    "    def avg(self):\n",
    "        self.avrg = (self.m1+self.m2+self.m3)/3\n",
    "        return self.avrg\n",
    "    def check(self,sec):\n",
    "        if self.avrg>sec.avrg:\n",
    "            return True\n",
    "        else:\n",
    "            return False"
   ]
  },
  {
   "cell_type": "code",
   "execution_count": 15,
   "metadata": {},
   "outputs": [],
   "source": [
    "s1 = student(45,78,65)\n",
    "s2 = student(88,45,61)"
   ]
  },
  {
   "cell_type": "code",
   "execution_count": 16,
   "metadata": {},
   "outputs": [
    {
     "data": {
      "text/plain": [
       "62.666666666666664"
      ]
     },
     "execution_count": 16,
     "metadata": {},
     "output_type": "execute_result"
    }
   ],
   "source": [
    "s1.avg()"
   ]
  },
  {
   "cell_type": "code",
   "execution_count": 17,
   "metadata": {},
   "outputs": [
    {
     "data": {
      "text/plain": [
       "64.66666666666667"
      ]
     },
     "execution_count": 17,
     "metadata": {},
     "output_type": "execute_result"
    }
   ],
   "source": [
    "s2.avg()"
   ]
  },
  {
   "cell_type": "code",
   "execution_count": 18,
   "metadata": {},
   "outputs": [
    {
     "name": "stdout",
     "output_type": "stream",
     "text": [
      "Student 2 is winner\n"
     ]
    }
   ],
   "source": [
    "if s1.check(s2):\n",
    "    print(\"Student 1 is winner\")\n",
    "else:\n",
    "    print(\"Student 2 is winner\")"
   ]
  },
  {
   "cell_type": "markdown",
   "metadata": {},
   "source": [
    "# EMPLOYEE"
   ]
  },
  {
   "cell_type": "code",
   "execution_count": 19,
   "metadata": {},
   "outputs": [],
   "source": [
    "class emp:\n",
    "    count = 0\n",
    "    exp = 1\n",
    "    def __init__(self,name,dept,salary):\n",
    "        self.name = name\n",
    "        self.dept = dept\n",
    "        self.salary = salary\n",
    "        emp.count += 1\n",
    "    def details(self):\n",
    "        print(\"Name = \",self.name,\"\\nDepartment = \",self.dept,\"\\nSalary = \",self.salary,\"\\nExperience = \",emp.exp,\"\\n\")\n",
    "    \n",
    "    @classmethod\n",
    "    def oldexp(old):\n",
    "        return old.exp\n",
    "    \n",
    "    def newexp(self):\n",
    "        return self.exp\n",
    "    \n",
    "    def change(old,new):\n",
    "        if old.exp < new.exp:\n",
    "            return True\n",
    "        else:\n",
    "            return False\n",
    "        \n",
    "    def info(self):\n",
    "        print(\"New details of employee -\\n\")\n",
    "        print(\"Name = \",self.name,\"\\nDepartment = \",self.dept,\"\\nSalary = \",self.salary,\"\\nExperience = \",self.exp,\"\\n\")"
   ]
  },
  {
   "cell_type": "code",
   "execution_count": 20,
   "metadata": {},
   "outputs": [
    {
     "name": "stdout",
     "output_type": "stream",
     "text": [
      "Name =  WER \n",
      "Department =  QQQ \n",
      "Salary =  40000 \n",
      "Experience =  1 \n",
      "\n",
      "Name =  QWE \n",
      "Department =  SDS \n",
      "Salary =  45000 \n",
      "Experience =  1 \n",
      "\n",
      "Name =  VVV \n",
      "Department =  SSS \n",
      "Salary =  30000 \n",
      "Experience =  1 \n",
      "\n",
      "No. of Employees -  3\n"
     ]
    }
   ],
   "source": [
    "e1 = emp(\"WER\",\"QQQ\",40000)\n",
    "e2 = emp(\"QWE\",\"SDS\",45000)\n",
    "e3 = emp(\"VVV\",\"SSS\",30000)\n",
    "e1.details()\n",
    "e2.details()\n",
    "e3.details()\n",
    "print(\"No. of Employees - \",emp.count)"
   ]
  },
  {
   "cell_type": "code",
   "execution_count": 21,
   "metadata": {},
   "outputs": [
    {
     "name": "stdout",
     "output_type": "stream",
     "text": [
      "Name =  WER \n",
      "Department =  QQQ \n",
      "Salary =  40000 \n",
      "Experience =  1 \n",
      "\n"
     ]
    }
   ],
   "source": [
    "e1.details()"
   ]
  },
  {
   "cell_type": "code",
   "execution_count": 22,
   "metadata": {},
   "outputs": [
    {
     "data": {
      "text/plain": [
       "1"
      ]
     },
     "execution_count": 22,
     "metadata": {},
     "output_type": "execute_result"
    }
   ],
   "source": [
    "e1.oldexp()"
   ]
  },
  {
   "cell_type": "code",
   "execution_count": 23,
   "metadata": {},
   "outputs": [],
   "source": [
    "e1.exp=2"
   ]
  },
  {
   "cell_type": "code",
   "execution_count": 24,
   "metadata": {},
   "outputs": [
    {
     "data": {
      "text/plain": [
       "2"
      ]
     },
     "execution_count": 24,
     "metadata": {},
     "output_type": "execute_result"
    }
   ],
   "source": [
    "e1.newexp()"
   ]
  },
  {
   "cell_type": "code",
   "execution_count": 25,
   "metadata": {},
   "outputs": [
    {
     "name": "stdout",
     "output_type": "stream",
     "text": [
      "Salary incremented 48000.0\n"
     ]
    }
   ],
   "source": [
    "if e1.change(e1):\n",
    "    print(\"No increment\")\n",
    "else:\n",
    "    e1.salary += (e1.salary*0.20)\n",
    "    print(\"Salary incremented\",e1.salary)\n",
    "    "
   ]
  },
  {
   "cell_type": "code",
   "execution_count": 26,
   "metadata": {},
   "outputs": [
    {
     "name": "stdout",
     "output_type": "stream",
     "text": [
      "New details of employee -\n",
      "\n",
      "Name =  WER \n",
      "Department =  QQQ \n",
      "Salary =  48000.0 \n",
      "Experience =  2 \n",
      "\n"
     ]
    }
   ],
   "source": [
    "e1.info()"
   ]
  },
  {
   "cell_type": "code",
   "execution_count": 27,
   "metadata": {},
   "outputs": [
    {
     "name": "stdout",
     "output_type": "stream",
     "text": [
      "Name =  QWE \n",
      "Department =  SDS \n",
      "Salary =  45000 \n",
      "Experience =  1 \n",
      "\n"
     ]
    }
   ],
   "source": [
    "e2.details()"
   ]
  },
  {
   "cell_type": "code",
   "execution_count": 28,
   "metadata": {},
   "outputs": [
    {
     "data": {
      "text/plain": [
       "1"
      ]
     },
     "execution_count": 28,
     "metadata": {},
     "output_type": "execute_result"
    }
   ],
   "source": [
    "e2.oldexp()"
   ]
  },
  {
   "cell_type": "code",
   "execution_count": 29,
   "metadata": {},
   "outputs": [],
   "source": [
    "e2.exp=2"
   ]
  },
  {
   "cell_type": "code",
   "execution_count": 30,
   "metadata": {},
   "outputs": [
    {
     "data": {
      "text/plain": [
       "2"
      ]
     },
     "execution_count": 30,
     "metadata": {},
     "output_type": "execute_result"
    }
   ],
   "source": [
    "e2.newexp()"
   ]
  },
  {
   "cell_type": "code",
   "execution_count": 31,
   "metadata": {},
   "outputs": [
    {
     "name": "stdout",
     "output_type": "stream",
     "text": [
      "Salary incremented 54000.0\n"
     ]
    }
   ],
   "source": [
    "if e2.change(e2):\n",
    "    print(\"No increment\")\n",
    "else:\n",
    "    e2.salary += (e2.salary*0.20)\n",
    "    print(\"Salary incremented\",e2.salary)"
   ]
  },
  {
   "cell_type": "code",
   "execution_count": 32,
   "metadata": {
    "scrolled": true
   },
   "outputs": [
    {
     "name": "stdout",
     "output_type": "stream",
     "text": [
      "New details of employee -\n",
      "\n",
      "Name =  QWE \n",
      "Department =  SDS \n",
      "Salary =  54000.0 \n",
      "Experience =  2 \n",
      "\n"
     ]
    }
   ],
   "source": [
    "e2.info()"
   ]
  },
  {
   "cell_type": "markdown",
   "metadata": {},
   "source": [
    "# INNER CLASS"
   ]
  },
  {
   "cell_type": "code",
   "execution_count": 33,
   "metadata": {},
   "outputs": [],
   "source": [
    "class Employee:\n",
    "    \n",
    "    def __init__(self,name,post,sal):\n",
    "        self.name=name\n",
    "        self.post=post\n",
    "        self.sal=sal\n",
    "        self.com=self.company()\n",
    "    \n",
    "    def show(self):\n",
    "        print(\"Employee info -\",\"\\nName =\",self.name,\"\\nPost =\",self.post,\"\\nSalary =\",self.sal)\n",
    "        self.com.show()\n",
    "        \n",
    "    class company:\n",
    "        def __init__(self):\n",
    "            self.cname = \"ASR Tech\"\n",
    "            self.branch=30\n",
    "            self.location=\"India\"\n",
    "        \n",
    "        def show(self):\n",
    "            print(\"\\nComapny Details -\",\"\\nCompany Name =\",self.cname,\"\\nCompany Branches =\",self.branch,\"\\nCompany Location =\",self.location,\"\\n\")"
   ]
  },
  {
   "cell_type": "code",
   "execution_count": 34,
   "metadata": {},
   "outputs": [],
   "source": [
    "e1 = Employee(\"QQQ\",\"ASFD\",20000)\n",
    "e2 = Employee(\"AAA\",\"SDFD\",21000)"
   ]
  },
  {
   "cell_type": "code",
   "execution_count": 35,
   "metadata": {},
   "outputs": [
    {
     "name": "stdout",
     "output_type": "stream",
     "text": [
      "Employee info - \n",
      "Name = QQQ \n",
      "Post = ASFD \n",
      "Salary = 20000\n",
      "\n",
      "Comapny Details - \n",
      "Company Name = ASR Tech \n",
      "Company Branches = 30 \n",
      "Company Location = India \n",
      "\n",
      "Employee info - \n",
      "Name = AAA \n",
      "Post = SDFD \n",
      "Salary = 21000\n",
      "\n",
      "Comapny Details - \n",
      "Company Name = ASR Tech \n",
      "Company Branches = 30 \n",
      "Company Location = India \n",
      "\n"
     ]
    }
   ],
   "source": [
    "e1.show()\n",
    "e2.show()"
   ]
  },
  {
   "cell_type": "code",
   "execution_count": 36,
   "metadata": {},
   "outputs": [],
   "source": [
    "emp1 = Employee.company()"
   ]
  },
  {
   "cell_type": "code",
   "execution_count": 37,
   "metadata": {},
   "outputs": [
    {
     "name": "stdout",
     "output_type": "stream",
     "text": [
      "\n",
      "Comapny Details - \n",
      "Company Name = ASR Tech \n",
      "Company Branches = 30 \n",
      "Company Location = India \n",
      "\n"
     ]
    }
   ],
   "source": [
    "Employee.company.show(emp1)"
   ]
  },
  {
   "cell_type": "code",
   "execution_count": null,
   "metadata": {},
   "outputs": [],
   "source": []
  }
 ],
 "metadata": {
  "kernelspec": {
   "display_name": "Python 3",
   "language": "python",
   "name": "python3"
  },
  "language_info": {
   "codemirror_mode": {
    "name": "ipython",
    "version": 3
   },
   "file_extension": ".py",
   "mimetype": "text/x-python",
   "name": "python",
   "nbconvert_exporter": "python",
   "pygments_lexer": "ipython3",
   "version": "3.9.1"
  }
 },
 "nbformat": 4,
 "nbformat_minor": 4
}
