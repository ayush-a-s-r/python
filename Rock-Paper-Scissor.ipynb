{
 "cells": [
  {
   "cell_type": "code",
   "execution_count": 3,
   "metadata": {},
   "outputs": [
    {
     "name": "stdout",
     "output_type": "stream",
     "text": [
      "ROCK-PAPER-SCISSOR GAME\n",
      "Enter number of rounds: 3\n",
      "\n",
      "Round 1\n",
      "Enter Your Choice - \n",
      "For Rock press 'R', For Paper press 'P' & For Scissor press 'S'\n",
      "R\n",
      "System won 1 rounds\n",
      "\n",
      "Round 2\n",
      "Enter Your Choice - \n",
      "For Rock press 'R', For Paper press 'P' & For Scissor press 'S'\n",
      "P\n",
      "System won 2 rounds\n",
      "\n",
      "Round 3\n",
      "Enter Your Choice - \n",
      "For Rock press 'R', For Paper press 'P' & For Scissor press 'S'\n",
      "R\n",
      "System won 3 rounds\n",
      "\n",
      "You lose!!\n"
     ]
    }
   ],
   "source": [
    "import random\n",
    "\n",
    "print(\"ROCK-PAPER-SCISSOR GAME\") \n",
    "n = int(input('Enter number of rounds: ')) \n",
    "a = [\"R\",\"P\",\"S\"]\n",
    "r = 1\n",
    "u_w = 0\n",
    "c_w = 0\n",
    "while r<=n:\n",
    "    print(\"\\nRound {}\".format(r))\n",
    "    print(\"Enter Your Choice - \")\n",
    "    p = input(\"For Rock press 'R', For Paper press 'P' & For Scissor press 'S'\\n\")\n",
    "    comp = random.choice(a)\n",
    "    if comp == \"R\": \n",
    "        if p == \"P\": \n",
    "            c_w += 1\n",
    "        elif p == \"S\": \n",
    "            u_w += 1\n",
    "    elif comp == \"P\":\n",
    "        if p == \"S\":\n",
    "            c_w += 1\n",
    "        elif p == \"R\":\n",
    "            u_w += 1\n",
    "    elif comp == \"S\":\n",
    "        if p == \"R\":\n",
    "            c_w += 1\n",
    "        elif p == \"P\":\n",
    "            u_w += 1\n",
    "    if u_w > c_w:\n",
    "        print(\"User won {} rounds\".format(r))\n",
    "    elif c_w > u_w:\n",
    "        print(\"System won {} rounds\".format(r))\n",
    "    else:\n",
    "        print(\"Draw\")\n",
    "    r += 1\n",
    "if u_w > c_w: \n",
    "    print(\"\\nCongratulations!! You Won\") \n",
    "elif c_w > u_w: \n",
    "    print(\"\\nYou lose!!\") \n",
    "else: \n",
    "    print(\"\\nMatch Draw!!\")"
   ]
  },
  {
   "cell_type": "code",
   "execution_count": null,
   "metadata": {},
   "outputs": [],
   "source": []
  },
  {
   "cell_type": "code",
   "execution_count": null,
   "metadata": {},
   "outputs": [],
   "source": []
  }
 ],
 "metadata": {
  "kernelspec": {
   "display_name": "Python 3",
   "language": "python",
   "name": "python3"
  },
  "language_info": {
   "codemirror_mode": {
    "name": "ipython",
    "version": 3
   },
   "file_extension": ".py",
   "mimetype": "text/x-python",
   "name": "python",
   "nbconvert_exporter": "python",
   "pygments_lexer": "ipython3",
   "version": "3.9.1"
  }
 },
 "nbformat": 4,
 "nbformat_minor": 4
}
