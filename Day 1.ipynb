{
 "cells": [
  {
   "cell_type": "code",
   "execution_count": 2,
   "metadata": {},
   "outputs": [
    {
     "name": "stdout",
     "output_type": "stream",
     "text": [
      "HELLO WORLD\n",
      "10\n",
      "hello world\n"
     ]
    }
   ],
   "source": [
    "a = 'Hello world'\n",
    "print(a.upper())\n",
    "print(5*2)\n",
    "print(a.lower())"
   ]
  },
  {
   "cell_type": "code",
   "execution_count": null,
   "metadata": {},
   "outputs": [],
   "source": [
    "import keyword\n"
   ]
  },
  {
   "cell_type": "code",
   "execution_count": 2,
   "metadata": {
    "scrolled": true
   },
   "outputs": [
    {
     "name": "stdout",
     "output_type": "stream",
     "text": [
      "no is negative\n"
     ]
    }
   ],
   "source": [
    "n = -45\n",
    "if n>0:\n",
    "    print(\"no. is positive\")\n",
    "else:\n",
    "    print(\"no is negative\")"
   ]
  },
  {
   "cell_type": "code",
   "execution_count": 3,
   "metadata": {},
   "outputs": [
    {
     "name": "stdout",
     "output_type": "stream",
     "text": [
      "Hello World\n"
     ]
    }
   ],
   "source": [
    "a = \"Hello World\"\n",
    "print(a)"
   ]
  },
  {
   "cell_type": "code",
   "execution_count": 8,
   "metadata": {},
   "outputs": [
    {
     "data": {
      "text/plain": [
       "'bbb'"
      ]
     },
     "execution_count": 8,
     "metadata": {},
     "output_type": "execute_result"
    }
   ],
   "source": [
    "email = \"aaaa@bbb.com\"\n",
    "email[0:4:1]\n",
    "email[4:12:1]\n",
    "email[5:8:1]"
   ]
  },
  {
   "cell_type": "code",
   "execution_count": 27,
   "metadata": {},
   "outputs": [
    {
     "data": {
      "text/plain": [
       "'outlook'"
      ]
     },
     "execution_count": 27,
     "metadata": {},
     "output_type": "execute_result"
    }
   ],
   "source": [
    "el = \"nishant756@outlook.com\"\n",
    "el[11:18:1]\n",
    "a = el.index(\"@\")\n",
    "el[a+1:-4:]"
   ]
  },
  {
   "cell_type": "code",
   "execution_count": 28,
   "metadata": {},
   "outputs": [
    {
     "data": {
      "text/plain": [
       "'yahoo'"
      ]
     },
     "execution_count": 28,
     "metadata": {},
     "output_type": "execute_result"
    }
   ],
   "source": [
    "el = \"pqrst@yahoo.com\"\n",
    "a = el.index(\"@\")\n",
    "el[a+1:-4:]"
   ]
  },
  {
   "cell_type": "code",
   "execution_count": 25,
   "metadata": {},
   "outputs": [
    {
     "name": "stdout",
     "output_type": "stream",
     "text": [
      "12.0\n"
     ]
    }
   ],
   "source": [
    "# AREA OF A THREE SIDE TRIANGLE\n",
    "a = 5\n",
    "b = 5\n",
    "c = 6\n",
    "p = (a+b+c)/2\n",
    "area = ((p*(p-a)*(p-b)*(p-c)) ** 0.5)\n",
    "print(area)"
   ]
  },
  {
   "cell_type": "code",
   "execution_count": 29,
   "metadata": {},
   "outputs": [
    {
     "name": "stdout",
     "output_type": "stream",
     "text": [
      "69.66666666666667\n"
     ]
    }
   ],
   "source": [
    "# CALCULATE AVERAGE MARKS OF 3 STUDENTS\n",
    "st_1 = 55\n",
    "st_2 = 89\n",
    "st_3 = 65\n",
    "avg = (st_1+st_2+st_3)/3\n",
    "print(avg)"
   ]
  },
  {
   "cell_type": "code",
   "execution_count": 32,
   "metadata": {},
   "outputs": [
    {
     "name": "stdout",
     "output_type": "stream",
     "text": [
      "Total income =  144000\n",
      "Tax Paid =  25920.0\n"
     ]
    }
   ],
   "source": [
    "# CALCULATE INCOME TAX OF THE TOTAL INCOME IF TAX IS 18%\n",
    "inc = 12000\n",
    "t_inc = inc * 12\n",
    "tax = (18/100)*t_inc\n",
    "print(\"Total income = \", t_inc)\n",
    "print(\"Tax Paid = \",tax)"
   ]
  },
  {
   "cell_type": "code",
   "execution_count": 39,
   "metadata": {},
   "outputs": [
    {
     "name": "stdout",
     "output_type": "stream",
     "text": [
      "Principal amount =  10000\n",
      "Time =  5\n",
      "Rate =  18\n",
      "SI =  9000.0\n",
      "CI =  12877.577567999995\n"
     ]
    }
   ],
   "source": [
    "# SI & CI\n",
    "p_amt = 10000\n",
    "t = 5\n",
    "r = 18\n",
    "SI = (p_amt*r*t)/100\n",
    "CI = p_amt*((1+r/100)**t-1)\n",
    "print(\"Principal amount = \",p_amt)\n",
    "print(\"Time = \",t)\n",
    "print(\"Rate = \",r)\n",
    "print(\"SI = \",SI)\n",
    "print(\"CI = \",CI)"
   ]
  },
  {
   "cell_type": "code",
   "execution_count": 41,
   "metadata": {},
   "outputs": [
    {
     "name": "stdout",
     "output_type": "stream",
     "text": [
      "Odd number\n"
     ]
    }
   ],
   "source": [
    "# ODD - EVEN\n",
    "a = 11\n",
    "if (a%2) == 0:\n",
    "    print(\"Even number\")\n",
    "else:\n",
    "    print(\"Odd number\")\n"
   ]
  },
  {
   "cell_type": "code",
   "execution_count": 44,
   "metadata": {},
   "outputs": [
    {
     "name": "stdout",
     "output_type": "stream",
     "text": [
      "Greater number is  14\n"
     ]
    }
   ],
   "source": [
    "# FIND THE GREATEST AMONG THREE NUMBERS\n",
    "a = 10\n",
    "b = 14\n",
    "c = 5\n",
    "if (a>b) and (a>c):\n",
    "    print(\"Greater number is \",a)\n",
    "elif (b>a) and (b>c):\n",
    "    print(\"Greater number is \",b)\n",
    "else:\n",
    "    print(\"Greater number is \",c)"
   ]
  },
  {
   "cell_type": "code",
   "execution_count": 48,
   "metadata": {},
   "outputs": [
    {
     "name": "stdout",
     "output_type": "stream",
     "text": [
      "INCOME TAX CANNOT BE CHARGED FOR AMOUNTS BELOW 3L\n"
     ]
    }
   ],
   "source": [
    "# CALCULATE INCOME TAX OF THE TOTAL INCOME\n",
    "# 3-5L 15% tax, 5-7L 18% tax, 7-9L 21% tax, 9-11L 23% tax\n",
    "\n",
    "m_inc = 5000\n",
    "t_inc = m_inc * 12\n",
    "if (t_inc>=300000) and (t_inc<500000):\n",
    "    tax = (15/100)*t_inc\n",
    "    print(\"Total amount = \",t_inc)\n",
    "    print(\"Tax Paid = \",tax)\n",
    "elif (t_inc>=500000) and (t_inc<700000):\n",
    "    tax = (18/100)*t_inc\n",
    "    print(\"Total amount = \",t_inc)\n",
    "    print(\"Tax Paid = \",tax)\n",
    "elif (t_inc>=700000) and (t_inc<900000):\n",
    "    tax = (21/100)*t_inc\n",
    "    print(\"Total amount = \",t_inc)\n",
    "    print(\"Tax Paid = \",tax)\n",
    "elif (t_inc>=900000) and (t_inc>=1100000):\n",
    "    tax = (23/100)*t_inc\n",
    "    print(\"Total amount = \",t_inc)\n",
    "    print(\"Tax Paid = \",tax)\n",
    "else:\n",
    "    print(\"INCOME TAX CANNOT BE CHARGED FOR AMOUNTS BELOW 3L\")"
   ]
  },
  {
   "cell_type": "code",
   "execution_count": null,
   "metadata": {},
   "outputs": [],
   "source": []
  },
  {
   "cell_type": "code",
   "execution_count": null,
   "metadata": {},
   "outputs": [],
   "source": []
  }
 ],
 "metadata": {
  "kernelspec": {
   "display_name": "Python 3",
   "language": "python",
   "name": "python3"
  },
  "language_info": {
   "codemirror_mode": {
    "name": "ipython",
    "version": 3
   },
   "file_extension": ".py",
   "mimetype": "text/x-python",
   "name": "python",
   "nbconvert_exporter": "python",
   "pygments_lexer": "ipython3",
   "version": "3.9.1"
  }
 },
 "nbformat": 4,
 "nbformat_minor": 4
}
