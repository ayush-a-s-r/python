{
 "cells": [
  {
   "cell_type": "code",
   "execution_count": 5,
   "metadata": {},
   "outputs": [
    {
     "name": "stdout",
     "output_type": "stream",
     "text": [
      "  * *   \n",
      "*   *   \n",
      "*   *   \n",
      "  * *   \n",
      "      * \n"
     ]
    }
   ],
   "source": [
    "#a\n",
    "for i in range(5):\n",
    "    for j in range(4):\n",
    "        if((j==2) and i!=4) or ((i==0 or i ==3) and (j>0 and j<2)) or ((j==0) and i!=0 and i!=3 and i!=4) or ((j==3) and i!=0 and i!=1 and i!=2 and i!=3):\n",
    "            print(\"*\", end = \" \")\n",
    "        else:\n",
    "            print(end = \"  \")\n",
    "    print()\n"
   ]
  },
  {
   "cell_type": "code",
   "execution_count": 8,
   "metadata": {},
   "outputs": [
    {
     "name": "stdout",
     "output_type": "stream",
     "text": [
      "*    \n",
      "*    \n",
      "* *   \n",
      "*  *  \n",
      "* *   \n"
     ]
    }
   ],
   "source": [
    "#b\n",
    "for i in range(5):\n",
    "    for j in range(4):\n",
    "        if((j==0)) or ((i==2 or i==4) and (j>0 and j<2)) or ((i==3) and j>1 and j<3):\n",
    "            print(\"*\", end = \" \")\n",
    "        else:\n",
    "            print(end = \" \")\n",
    "    print()\n"
   ]
  },
  {
   "cell_type": "code",
   "execution_count": 14,
   "metadata": {},
   "outputs": [
    {
     "name": "stdout",
     "output_type": "stream",
     "text": [
      " * * *  \n",
      "*     \n",
      "*     \n",
      " * * *  \n",
      "     \n"
     ]
    }
   ],
   "source": [
    "#c\n",
    "for i in range(5):\n",
    "    for j in range(5):\n",
    "        if((j==0) and (i!=0 and i!=4 and i!=3)) or ((i==3 or i==0) and (j>0 and j<4)):\n",
    "            print(\"*\", end = \" \")\n",
    "        else:\n",
    "            print(end = \" \")\n",
    "    print()"
   ]
  },
  {
   "cell_type": "code",
   "execution_count": 28,
   "metadata": {},
   "outputs": [
    {
     "name": "stdout",
     "output_type": "stream",
     "text": [
      "      * \n",
      "      * \n",
      "    * * \n",
      "  *   * \n",
      "    * * \n"
     ]
    }
   ],
   "source": [
    "#d\n",
    "for i in range(5):\n",
    "    for j in range(4):\n",
    "        if((j==3)) or ((i==2 or i==4) and (j>1 and j<3)) or ((j==1) and i!=0 and i!=1 and i!=2 and i!=4):\n",
    "            print(\"*\", end = \" \")\n",
    "        else:\n",
    "            print(end = \"  \")\n",
    "    print()\n"
   ]
  },
  {
   "cell_type": "code",
   "execution_count": 31,
   "metadata": {},
   "outputs": [
    {
     "name": "stdout",
     "output_type": "stream",
     "text": [
      "  * * * * \n",
      "*     *   \n",
      "*   *     \n",
      "* *       \n",
      "*         \n",
      "  * * * * \n"
     ]
    }
   ],
   "source": [
    "#e\n",
    "for i in range(6):\n",
    "    for j in range(5):\n",
    "        if((j==0) and i!=0 and i!=5) or ((j==1) and i!=1 and i!=2 and i!=4) or ((j==2) and i!=1 and i!=3 and i!=4) or ((j==3) and i!=2 and i!=3 and i!=4) or ((j==4) and i!=1 and i!=2 and i!=3 and i!=4):\n",
    "            print(\"*\", end = \" \")\n",
    "        else:\n",
    "            print(end = \"  \")\n",
    "    print()\n"
   ]
  },
  {
   "cell_type": "code",
   "execution_count": 33,
   "metadata": {},
   "outputs": [
    {
     "name": "stdout",
     "output_type": "stream",
     "text": [
      "    * \n",
      "  *   \n",
      "* * * \n",
      "  *   \n",
      "  *   \n",
      "  *   \n",
      "*     \n"
     ]
    }
   ],
   "source": [
    "#f\n",
    "for i in range(7):\n",
    "    for j in range(3):\n",
    "        if((j==0) and i!=0 and i!=1 and i!=3 and i!=4 and i!=5) or ((j==1) and i!=0 and i!=6) or ((j==2) and i!=1 and i!=3 and i!=4 and i!=5 and i!=6):\n",
    "            print(\"*\", end = \" \")\n",
    "        else:\n",
    "            print(end = \"  \")\n",
    "    print()\n"
   ]
  },
  {
   "cell_type": "code",
   "execution_count": 36,
   "metadata": {},
   "outputs": [
    {
     "name": "stdout",
     "output_type": "stream",
     "text": [
      "  * * \n",
      "*   * \n",
      "  * * \n",
      "    * \n",
      "*   * \n",
      "  * * \n",
      "    * \n"
     ]
    }
   ],
   "source": [
    "#g\n",
    "for i in range(7):\n",
    "    for j in range(3):\n",
    "        if((j==2)) or ((j==1) and i!=1 and i!=3 and i!=4 and i!=6) or ((j==0) and i!=0 and i!=2 and i!=3 and i!=5 and i!=6):\n",
    "            print(\"*\", end = \" \")\n",
    "        else:\n",
    "            print(end = \"  \")\n",
    "    print()\n",
    "    "
   ]
  },
  {
   "cell_type": "code",
   "execution_count": 37,
   "metadata": {},
   "outputs": [
    {
     "name": "stdout",
     "output_type": "stream",
     "text": [
      "    * * \n",
      "  *   * \n",
      "    * * \n",
      "      * \n",
      "      * \n",
      "  *   * \n",
      "    * * \n"
     ]
    }
   ],
   "source": [
    "#g -- II\n",
    "for i in range(7):\n",
    "    for j in range(4):\n",
    "        if((j==3)) or ((j==2) and i!=1 and i!=3 and i!=4 and i!=5) or ((j==1) and i!=0 and i!=2 and i!=3 and i!=4 and i!=6):\n",
    "             print(\"*\", end = \" \")\n",
    "        else:\n",
    "            print(end = \"  \")\n",
    "    print()"
   ]
  },
  {
   "cell_type": "code",
   "execution_count": 38,
   "metadata": {},
   "outputs": [
    {
     "name": "stdout",
     "output_type": "stream",
     "text": [
      "*     \n",
      "*     \n",
      "* * * \n",
      "*   * \n",
      "*   * \n"
     ]
    }
   ],
   "source": [
    "#h\n",
    "for i in range(5):\n",
    "    for j in range(3):\n",
    "        if((j==0)) or ((i==2) and j>0 and j<2) or ((j==2) and i!=0 and i!=1):\n",
    "            print(\"*\", end = \" \")\n",
    "        else:\n",
    "            print(end = \"  \")\n",
    "    print()"
   ]
  },
  {
   "cell_type": "code",
   "execution_count": 44,
   "metadata": {},
   "outputs": [
    {
     "name": "stdout",
     "output_type": "stream",
     "text": [
      "*\n",
      "\n",
      "*\n",
      "*\n",
      "*\n",
      "*\n"
     ]
    }
   ],
   "source": [
    "#i\n",
    "for i in range(6):\n",
    "    for j in range(2):\n",
    "        if((j==0) and i!=1):\n",
    "            print(\"*\", end = \"\")\n",
    "        else:\n",
    "            print(end = \"\")\n",
    "    print()"
   ]
  },
  {
   "cell_type": "code",
   "execution_count": 50,
   "metadata": {},
   "outputs": [
    {
     "name": "stdout",
     "output_type": "stream",
     "text": [
      "  *     \n",
      "        \n",
      "* *     \n",
      "  *     \n",
      "  *   * \n",
      "  * *   \n"
     ]
    }
   ],
   "source": [
    "#i -- II\n",
    "for i in range(6):\n",
    "    for j in range(4):\n",
    "        if((j==1) and i!=1) or ((j==0) and i!=0 and i!=1 and i!=3 and i!=4 and i!=5) or ((j==3) and i!=0 and i!=1 and i!=2 and i!=3 and i!=5) or ((i==5) and j>1 and j<3):\n",
    "            print(\"*\", end = \" \")\n",
    "        else:\n",
    "            print(end = \"  \")\n",
    "    print()"
   ]
  },
  {
   "cell_type": "code",
   "execution_count": 54,
   "metadata": {},
   "outputs": [
    {
     "name": "stdout",
     "output_type": "stream",
     "text": [
      "    *   \n",
      "        \n",
      "  * *   \n",
      "    *   \n",
      "    *   \n",
      "    *   \n",
      "*   *   \n",
      "  *     \n"
     ]
    }
   ],
   "source": [
    "#j\n",
    "for i in range(8):\n",
    "    for j in range(4):\n",
    "        if((j==2) and i!=1 and i!=7) or ((i==2 or i==7) and j>0 and j<2) or ((i==6) and j!=1 and j!=2 and j!=3):\n",
    "            print(\"*\", end = \" \")\n",
    "        else:\n",
    "            print(end = \"  \")\n",
    "    print()"
   ]
  },
  {
   "cell_type": "code",
   "execution_count": 58,
   "metadata": {},
   "outputs": [
    {
     "name": "stdout",
     "output_type": "stream",
     "text": [
      "*         \n",
      "*         \n",
      "*         \n",
      "* * *     \n",
      "*     *   \n",
      "* * *     \n",
      "* *       \n",
      "*   *     \n",
      "*     *   \n"
     ]
    }
   ],
   "source": [
    "#k\n",
    "for i in range(9):\n",
    "    for j in range(5):\n",
    "        if((j==0)) or ((i==3 or i==5) and j>0 and j<3) or ((i==6) and j>0 and j<2) or ((i==7) and j>1 and j<3) or ((i==4 or i==8) and j>2 and j<4):\n",
    "            print(\"*\", end = \" \")\n",
    "        else:\n",
    "            print(end = \"  \")\n",
    "    print()"
   ]
  },
  {
   "cell_type": "code",
   "execution_count": 61,
   "metadata": {},
   "outputs": [
    {
     "name": "stdout",
     "output_type": "stream",
     "text": [
      "*   \n",
      "*   \n",
      "*   \n",
      "*  * \n",
      "* *  \n"
     ]
    }
   ],
   "source": [
    "#l\n",
    "for i in range(5):\n",
    "    for j in range(3):\n",
    "        if((j==0)) or ((i==3) and j!=1) or ((i==4) and j>0 and j<2):\n",
    "            print(\"*\", end = \" \")\n",
    "        else:\n",
    "            print(end = \" \")\n",
    "    print()\n"
   ]
  },
  {
   "cell_type": "code",
   "execution_count": 68,
   "metadata": {},
   "outputs": [
    {
     "name": "stdout",
     "output_type": "stream",
     "text": [
      "* * * *   \n",
      "  * * *   \n",
      "  * * *   \n"
     ]
    }
   ],
   "source": [
    "#m\n",
    "for i in range(3):\n",
    "    for j in range(5):\n",
    "        if((j==1 or j==2 or j==3)) or ((i==0) and j!=4):\n",
    "            print(\"*\", end = \" \")\n",
    "        else:\n",
    "            print(end = \"  \")\n",
    "    print()\n"
   ]
  },
  {
   "cell_type": "code",
   "execution_count": 84,
   "metadata": {},
   "outputs": [
    {
     "name": "stdout",
     "output_type": "stream",
     "text": [
      "  *   *   *   \n",
      "*   *   *   * \n",
      "    *   *   * \n",
      "    *   *   * \n"
     ]
    }
   ],
   "source": [
    "#m -- II\n",
    "for i in range(4):\n",
    "    for j in range(7):\n",
    "        if((i==0) and j!=0 and j!=2 and j!=4 and j!=6) or ((i==1) and j!=1 and j!=3 and j!=5) or ((j==2 or j==4 or j==6) and i!=0):\n",
    "            print(\"*\", end = \" \")\n",
    "        else:\n",
    "            print(end = \"  \")\n",
    "    print()"
   ]
  },
  {
   "cell_type": "code",
   "execution_count": 85,
   "metadata": {},
   "outputs": [
    {
     "name": "stdout",
     "output_type": "stream",
     "text": [
      "    *   \n",
      "* *   * \n",
      "  *   * \n",
      "  *   * \n"
     ]
    }
   ],
   "source": [
    "#n\n",
    "for i in range(4):\n",
    "    for j in range(4):\n",
    "        if((i==0) and j>1 and j<3) or ((i==1) and j!=2) or ((j==1 or j==3) and i!=0):\n",
    "            print(\"*\", end = \" \")\n",
    "        else:\n",
    "            print(end = \"  \")\n",
    "    print()"
   ]
  },
  {
   "cell_type": "code",
   "execution_count": 89,
   "metadata": {},
   "outputs": [
    {
     "name": "stdout",
     "output_type": "stream",
     "text": [
      "** *\n",
      " * *\n",
      " * *\n",
      " * *\n"
     ]
    }
   ],
   "source": [
    "#n -- II\n",
    "for i in range(4):\n",
    "    for j in range(4):\n",
    "        if((i==0) and j!=2) or ((j==1 or j==3) and i!=0):\n",
    "            print(\"*\", end = \"\")\n",
    "        else:\n",
    "            print(end = \" \")\n",
    "    print()"
   ]
  },
  {
   "cell_type": "code",
   "execution_count": 156,
   "metadata": {},
   "outputs": [
    {
     "name": "stdout",
     "output_type": "stream",
     "text": [
      "  * *   \n",
      "*     * \n",
      "*     * \n",
      "  * *   \n"
     ]
    }
   ],
   "source": [
    "#o\n",
    "for i in range(4):\n",
    "    for j in range(4):\n",
    "        if((j==0 or j==3) and (i!=0 and i!=3) or ((i==0 or i==3) and j>0 and j<3)):\n",
    "            print(\"*\", end = \" \")\n",
    "        else:\n",
    "            print(end = \"  \")\n",
    "    print()"
   ]
  },
  {
   "cell_type": "code",
   "execution_count": 106,
   "metadata": {},
   "outputs": [
    {
     "name": "stdout",
     "output_type": "stream",
     "text": [
      "*     \n",
      "* *   \n",
      "*   * \n",
      "*   * \n",
      "* *   \n",
      "*     \n",
      "*     \n"
     ]
    }
   ],
   "source": [
    "#p\n",
    "for i in range(7):\n",
    "    for j in range(3):\n",
    "        if((j==0)) or ((i==1 or i==4) and j>0 and j<2) or ((j==2) and i!=0 and i!=1 and i!=4 and i!=5 and i!=6):\n",
    "            print(\"*\", end = \" \")\n",
    "        else:\n",
    "            print(end = \"  \")\n",
    "    print()"
   ]
  },
  {
   "cell_type": "code",
   "execution_count": 116,
   "metadata": {},
   "outputs": [
    {
     "name": "stdout",
     "output_type": "stream",
     "text": [
      "  * *     \n",
      "*   *     \n",
      "*   *     \n",
      "  * *     \n",
      "    *     \n",
      "    *   * \n",
      "      *   \n"
     ]
    }
   ],
   "source": [
    "#q\n",
    "for i in range(7):\n",
    "    for j in range(5):\n",
    "        if((j==2) and i!=6) or ((i==0 or i==3) and j>0 and j<2) or ((i==1 or i==2) and j!=1 and j!=3 and j!=4) or ((i==6) and j!=0 and j!=1 and j!=2 and j!=4) or ((i==5) and j!=0 and j!=1 and j!=3):\n",
    "            print(\"*\", end = \" \")\n",
    "        else:\n",
    "            print(end = \"  \")\n",
    "    print()"
   ]
  },
  {
   "cell_type": "code",
   "execution_count": 117,
   "metadata": {},
   "outputs": [
    {
     "name": "stdout",
     "output_type": "stream",
     "text": [
      "* *   \n",
      "*   * \n",
      "*     \n",
      "*     \n",
      "*     \n"
     ]
    }
   ],
   "source": [
    "#r\n",
    "for i in range(5):\n",
    "    for j in range(3):\n",
    "        if((j==0)) or ((i==0) and j>0 and j<2) or ((i==1) and j!=1):\n",
    "            print(\"*\", end = \" \")\n",
    "        else:\n",
    "            print(end = \"  \")\n",
    "    print()"
   ]
  },
  {
   "cell_type": "code",
   "execution_count": 131,
   "metadata": {},
   "outputs": [
    {
     "name": "stdout",
     "output_type": "stream",
     "text": [
      "    * *   \n",
      "* *     * \n",
      "  *       \n",
      "  *       \n",
      "  *       \n"
     ]
    }
   ],
   "source": [
    "#r -- II\n",
    "for i in range(5):\n",
    "    for j in range(5):\n",
    "        if((i==0) and j!=0 and j!=1 and j!=4) or ((j==1) and i!=0) or ((i==1) and j!=2 and j!=3):\n",
    "            print(\"*\", end = \" \")\n",
    "        else:\n",
    "            print(end = \"  \")\n",
    "    print()"
   ]
  },
  {
   "cell_type": "code",
   "execution_count": 140,
   "metadata": {},
   "outputs": [
    {
     "name": "stdout",
     "output_type": "stream",
     "text": [
      "  * * * \n",
      "*       \n",
      "  * *   \n",
      "      * \n",
      "* * *   \n"
     ]
    }
   ],
   "source": [
    "#s\n",
    "for i in range(5):\n",
    "    for j in range(4):\n",
    "        if((i==0) and j!=0) or ((i==2) and j>0 and j<3) or ((i==4) and j!=3) or ((j==0) and (i==1)) or ((j==3) and (i==3)):\n",
    "            print(\"*\", end = \" \")\n",
    "        else:\n",
    "            print(end = \"  \")\n",
    "    print()"
   ]
  },
  {
   "cell_type": "code",
   "execution_count": 142,
   "metadata": {},
   "outputs": [
    {
     "name": "stdout",
     "output_type": "stream",
     "text": [
      "  *   \n",
      "* * * \n",
      "  *   \n",
      "  *   \n",
      "  *   \n"
     ]
    }
   ],
   "source": [
    "#t\n",
    "for i in range(5):\n",
    "    for j in range(3):\n",
    "        if((j==1) and i!=1) or ((i==1)):\n",
    "            print(\"*\", end = \" \")\n",
    "        else:\n",
    "            print(end = \"  \")\n",
    "    print()"
   ]
  },
  {
   "cell_type": "code",
   "execution_count": 144,
   "metadata": {},
   "outputs": [
    {
     "name": "stdout",
     "output_type": "stream",
     "text": [
      "*     * \n",
      "*     * \n",
      "*     * \n",
      "  * *   \n"
     ]
    }
   ],
   "source": [
    "#u\n",
    "for i in range(4):\n",
    "    for j in range(4):\n",
    "        if((j==0 or j==3) and i!=3) or ((i==3) and j>0 and j<3):\n",
    "            print(\"*\", end = \" \")\n",
    "        else:\n",
    "            print(end = \"  \")\n",
    "    print()"
   ]
  },
  {
   "cell_type": "code",
   "execution_count": 147,
   "metadata": {},
   "outputs": [
    {
     "name": "stdout",
     "output_type": "stream",
     "text": [
      "*       * \n",
      "  *   *   \n",
      "    *     \n"
     ]
    }
   ],
   "source": [
    "#v\n",
    "for i in range(3):\n",
    "    for j in range(5):\n",
    "        if((j==0 or j==4) and i==0) or ((j==1 or j==3) and i==1) or ((j==2) and i==2):\n",
    "            print(\"*\", end = \" \")\n",
    "        else:\n",
    "            print(end = \"  \")\n",
    "    print()"
   ]
  },
  {
   "cell_type": "code",
   "execution_count": 149,
   "metadata": {},
   "outputs": [
    {
     "name": "stdout",
     "output_type": "stream",
     "text": [
      "*           * \n",
      "  *   *   *   \n",
      "    *   *     \n"
     ]
    }
   ],
   "source": [
    "#w\n",
    "for i in range(3):\n",
    "    for j in range(7):\n",
    "        if((i==0) and (j==0 or j==6)) or ((i==1) and (j==1 or j==3 or j==5) or (i==2) and (j==2 or j==4)):\n",
    "            print(\"*\", end = \" \")\n",
    "        else:\n",
    "            print(end = \"  \")\n",
    "    print()"
   ]
  },
  {
   "cell_type": "code",
   "execution_count": 150,
   "metadata": {},
   "outputs": [
    {
     "name": "stdout",
     "output_type": "stream",
     "text": [
      "*   * \n",
      "  *   \n",
      "*   * \n"
     ]
    }
   ],
   "source": [
    "#x\n",
    "for i in range(3):\n",
    "    for j in range(3):\n",
    "        if((i==0) and (j==0 or j==2)) or ((i==1) and j==1) or ((i==2) and (j==0 or j==2)):\n",
    "            print(\"*\", end = \" \")\n",
    "        else:\n",
    "            print(end = \"  \")\n",
    "    print()"
   ]
  },
  {
   "cell_type": "code",
   "execution_count": 153,
   "metadata": {},
   "outputs": [
    {
     "name": "stdout",
     "output_type": "stream",
     "text": [
      "*   * \n",
      "  * * \n",
      "    * \n",
      "  * * \n"
     ]
    }
   ],
   "source": [
    "#y\n",
    "for i in range(4):\n",
    "    for j in range(3):\n",
    "        if((j==2)) or ((j==1) and (i==1 or i==3)) or ((j==0) and i==0):\n",
    "            print(\"*\", end = \" \")\n",
    "        else:\n",
    "            print(end = \"  \")\n",
    "    print()"
   ]
  },
  {
   "cell_type": "code",
   "execution_count": 155,
   "metadata": {},
   "outputs": [
    {
     "name": "stdout",
     "output_type": "stream",
     "text": [
      "* * * \n",
      "  *   \n",
      "* * * \n"
     ]
    }
   ],
   "source": [
    "#z\n",
    "for i in range(3):\n",
    "    for j in range(3):\n",
    "        if((i==0 or i==2)) or ((i==1) and j==1):\n",
    "            print(\"*\", end = \" \")\n",
    "        else:\n",
    "            print(end = \"  \")\n",
    "    print()"
   ]
  },
  {
   "cell_type": "code",
   "execution_count": null,
   "metadata": {},
   "outputs": [],
   "source": []
  }
 ],
 "metadata": {
  "kernelspec": {
   "display_name": "Python 3",
   "language": "python",
   "name": "python3"
  },
  "language_info": {
   "codemirror_mode": {
    "name": "ipython",
    "version": 3
   },
   "file_extension": ".py",
   "mimetype": "text/x-python",
   "name": "python",
   "nbconvert_exporter": "python",
   "pygments_lexer": "ipython3",
   "version": "3.9.1"
  }
 },
 "nbformat": 4,
 "nbformat_minor": 4
}
