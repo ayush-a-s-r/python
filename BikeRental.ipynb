{
 "cells": [
  {
   "cell_type": "code",
   "execution_count": 32,
   "metadata": {},
   "outputs": [],
   "source": [
    "import datetime\n",
    "class Bike:\n",
    "    \n",
    "    a=0\n",
    "    def __init__(self,b_inStock):\n",
    "        self.b_inStock = b_inStock\n",
    "        \n",
    "    def dis_inStock(self):\n",
    "        print(\"No. of bikes available in stock are - \",self.b_inStock)\n",
    "        \n",
    "class hour(Bike):\n",
    "    def __init__(self):\n",
    "        super().__init__(40)\n",
    "    def hr(self):\n",
    "        self.a = int(input(\"Enter the no. of bikes you need - \"))\n",
    "        if self.a > self.b_inStock:\n",
    "            print(\"Sorry! Only {} bikes available\".format(self.b_inStock))\n",
    "        else:\n",
    "            now = datetime.datetime.now()\n",
    "            s1 = now.strftime(\"%d/%m/%Y, %I:%M:%S %p\")\n",
    "            print(\"You rented {} bike/bikes on hourly basis today i.e \".format(self.a),s1)\n",
    "            print(\"You will be charged $5 for each hour per bike.\")\n",
    "            self.b_inStock -= self.a\n",
    "    def bill_return(self,b):\n",
    "        e_t = datetime.datetime.now()\n",
    "        type_h_d_w = input(\"Please enter the type of booking you did i.e Hourly[H], Weekly[W] or Daily[D]\\n\")\n",
    "        num = b\n",
    "        bill = 0\n",
    "        print(\"{} number of bikes were rented\".format(num))\n",
    "        if num!=0:\n",
    "            \n",
    "            self.b_inStock += num\n",
    "            now = datetime.datetime.now()\n",
    "            duration = now - e_t\n",
    "            if type_h_d_w =='h' or type_h_d_w == 'H':\n",
    "                bill = (duration.seconds/3600)*5*num\n",
    "            else:\n",
    "                print(\"Incorrect Choice\")\n",
    "            if num>=3 and num<=5:\n",
    "                print(\"Eligible for 30% discount\")\n",
    "                bill = bill * 0.7\n",
    "                \n",
    "            print(\"Total amount to be paid = $\",bill)\n",
    "        else:\n",
    "            print(\"Invalid\")\n",
    "\n",
    "class day(Bike):\n",
    "    def __init__(self):\n",
    "        super().__init__(40)\n",
    "    def daily(self):\n",
    "        self.a = int(input(\"Enter the no. of bikes you need - \"))\n",
    "        if self.a > self.b_inStock:\n",
    "            print(\"Sorry! Only {} bikes available\".format(self.b_inStock))\n",
    "        else:\n",
    "            now = datetime.datetime.now()\n",
    "            s1 = now.strftime(\"%d/%m/%Y, %I:%M:%S %p\")\n",
    "            print(\"You rented {} bike/bikes on hourly basis today i.e \".format(self.a),s1)\n",
    "            print(\"You will be charged $20 for each day per bike.\")\n",
    "            self.b_inStock -= self.a\n",
    "    def bill_return(self,b):\n",
    "        e_t = datetime.datetime.now()\n",
    "        type_h_d_w = input(\"Please enter the type of booking you did i.e Hourly[H], Weekly[W] or Daily[D]\\n\")\n",
    "        num = b\n",
    "        bill = 0\n",
    "        print(\"{} number of bikes were rented\".format(num))\n",
    "        if num!=0:\n",
    "            \n",
    "            self.b_inStock += num\n",
    "            now = datetime.datetime.now()\n",
    "            duration = now - e_t\n",
    "            if type_h_d_w =='d' or type_h_d_w == 'D':\n",
    "                bill = (duration.days)*20*num\n",
    "            if num>=3 and num<=5:\n",
    "                print(\"Eligible for 30% discount\")\n",
    "                bill = bill * 0.7\n",
    "                \n",
    "            print(\"Total amount to be paid = $\",bill)\n",
    "        else:\n",
    "            print(\"Invalid\")\n",
    "    \n",
    "class week(Bike):\n",
    "    def __init__(self):\n",
    "        super().__init__(40)\n",
    "    def weekly(self):\n",
    "        self.a = int(input(\"Enter the no. of bikes you need - \"))\n",
    "        if self.a > self.b_inStock:\n",
    "            print(\"Sorry! Only {} bikes available\".format(self.b_inStock))\n",
    "        else:\n",
    "            now = datetime.datetime.now()\n",
    "            s1 = now.strftime(\"%d/%m/%Y, %I:%M:%S %p\")\n",
    "            print(\"You rented {} bike/bikes on weekly basis today i.e \".format(self.a),s1)\n",
    "            print(\"You will be charged $40 for each week per bike.\")\n",
    "            self.b_inStock -= self.a\n",
    "    \n",
    "    def bill_return(self,b):\n",
    "        e_t = datetime.datetime.now()\n",
    "        type_h_d_w = input(\"Please enter the type of booking you did i.e Hourly[H], Weekly[W] or Daily[D]\\n\")\n",
    "        num = b\n",
    "        bill = 0\n",
    "        print(\"{} number of bikes were rented\".format(num))\n",
    "        if num!=0:\n",
    "            \n",
    "            self.b_inStock += num\n",
    "            now = datetime.datetime.now()\n",
    "            duration = now - e_t\n",
    "            if type_h_d_w =='w' or type_h_d_w == 'W':\n",
    "                bill = (duration.days/7)*40*num\n",
    "            if num>=3 and num<=5:\n",
    "                print(\"Eligible for 30% discount\")\n",
    "                bill = bill * 0.7\n",
    "                \n",
    "            print(\"Total amount to be paid = $\",bill)\n",
    "        else:\n",
    "            print(\"Invalid\")\n"
   ]
  },
  {
   "cell_type": "code",
   "execution_count": 38,
   "metadata": {},
   "outputs": [],
   "source": [
    "h1 = hour()"
   ]
  },
  {
   "cell_type": "code",
   "execution_count": 39,
   "metadata": {},
   "outputs": [
    {
     "name": "stdout",
     "output_type": "stream",
     "text": [
      "No. of bikes available in stock are -  40\n"
     ]
    }
   ],
   "source": [
    "h1.dis_inStock()"
   ]
  },
  {
   "cell_type": "code",
   "execution_count": 40,
   "metadata": {},
   "outputs": [
    {
     "name": "stdout",
     "output_type": "stream",
     "text": [
      "Enter the no. of bikes you need - 14\n",
      "You rented 14 bike/bikes on hourly basis today i.e  17/02/2021, 10:35:43 AM\n",
      "You will be charged $5 for each hour per bike.\n"
     ]
    }
   ],
   "source": [
    "h1.hr()"
   ]
  },
  {
   "cell_type": "code",
   "execution_count": 41,
   "metadata": {},
   "outputs": [
    {
     "name": "stdout",
     "output_type": "stream",
     "text": [
      "Please enter the type of booking you did i.e Hourly[H], Weekly[W] or Daily[D]\n",
      "h\n",
      "14 number of bikes were rented\n",
      "Total amount to be paid = $ 0.03888888888888889\n"
     ]
    }
   ],
   "source": [
    "h1.bill_return(14)"
   ]
  },
  {
   "cell_type": "markdown",
   "metadata": {},
   "source": [
    "# Re-Try"
   ]
  },
  {
   "cell_type": "code",
   "execution_count": 57,
   "metadata": {},
   "outputs": [],
   "source": [
    "class Bike:\n",
    "    a=0\n",
    "    b=0\n",
    "    def __init__(self,b_inStock):\n",
    "        self.b_inStock = b_inStock\n",
    "        \n",
    "    def dis_inStock(self):\n",
    "        print(\"No. of bikes available in stock are - \",self.b_inStock)\n",
    "    \n",
    "    def hr(self):\n",
    "        self.a = int(input(\"Enter the no. of bikes you need - \"))\n",
    "        if self.a > self.b_inStock:\n",
    "            print(\"Sorry! Only {} bikes available\".format(self.b_inStock))\n",
    "        else:\n",
    "            now = datetime.datetime.now()\n",
    "            s1 = now.strftime(\"%d/%m/%Y, %I:%M:%S %p\")\n",
    "            print(\"You rented {} bike/bikes on hourly basis today i.e \".format(self.a),s1)\n",
    "            print(\"You will be charged $5 for each hour per bike.\")\n",
    "            self.b_inStock -= self.a\n",
    "     \n",
    "    def daily(self):\n",
    "        self.a = int(input(\"Enter the no. of bikes you need - \"))\n",
    "        if self.a > self.b_inStock:\n",
    "            print(\"Sorry! Only {} bikes available\".format(self.b_inStock))\n",
    "        else:\n",
    "            now = datetime.datetime.now()\n",
    "            s1 = now.strftime(\"%d/%m/%Y, %I:%M:%S %p\")\n",
    "            print(\"You rented {} bike/bikes on hourly basis today i.e \".format(self.a),s1)\n",
    "            print(\"You will be charged $20 for each day per bike.\")\n",
    "            \n",
    "    def weekly(self):\n",
    "        self.a = int(input(\"Enter the no. of bikes you need - \"))\n",
    "        if self.a > self.b_inStock:\n",
    "            print(\"Sorry! Only {} bikes available\".format(self.b_inStock))\n",
    "        else:\n",
    "            now = datetime.datetime.now()\n",
    "            s1 = now.strftime(\"%d/%m/%Y, %I:%M:%S %p\")\n",
    "            print(\"You rented {} bike/bikes on weekly basis today i.e \".format(self.a),s1)\n",
    "            print(\"You will be charged $40 for each week per bike.\")\n",
    "            self.b_inStock -= self.a\n",
    "    \n",
    "class Customer(Bike):\n",
    "    def __init__(self):\n",
    "        super().__init__(40)\n",
    "    \n",
    "    def display(self):\n",
    "        self.n = input(\"Please Enter Name - \")\n",
    "        self.m = int(input(\"Please Enter the no. of people the bikes are being rented for - \"))\n",
    "    \n",
    "    def u_inp(self):\n",
    "        self.b = int(input(\"Please enter the no. of bikes you want to return - \"))\n",
    "        if self.b!=self.a:\n",
    "            print(\"Please re-check the number you have entered\")\n",
    "        else:\n",
    "            print(\"Bill Generating\")\n",
    "    def bill_g(self):\n",
    "        e_t = datetime.datetime.now()\n",
    "        type_h_d_w = input(\"Please enter the type of booking you did i.e Hourly[H], Weekly[W] or Daily[D]\\n\")\n",
    "        self.b_inStock += self.b\n",
    "        now = datetime.datetime.now()\n",
    "        s2 = now.strftime(\"%d/%m/%Y, %I:%M:%S %p\")\n",
    "        duration = now - e_t\n",
    "        if type_h_d_w =='h' or type_h_d_w == 'H':\n",
    "            bill = (duration.seconds/3600)*5*self.b\n",
    "        elif type_h_d_w =='d' or type_h_d_w == 'D':\n",
    "            bill = (duration.days)*20*self.b\n",
    "        elif type_h_d_w =='w' or type_h_d_w == 'W':\n",
    "            bill = (duration.days/7)*40*self.b\n",
    "        \n",
    "        if self.m>=3 and self.m<=5:\n",
    "            print(\"Eligible for 30% discount\")\n",
    "            bill = bill * 0.7\n",
    "        print(\"Bill Generation Time/Date - \",s2)\n",
    "        print(\"Customer info -\\nName : \",self.n)\n",
    "        print(\"Total amount to be paid = $\",bill)"
   ]
  },
  {
   "cell_type": "code",
   "execution_count": 58,
   "metadata": {},
   "outputs": [],
   "source": [
    "c1 = Customer()"
   ]
  },
  {
   "cell_type": "code",
   "execution_count": 59,
   "metadata": {},
   "outputs": [
    {
     "name": "stdout",
     "output_type": "stream",
     "text": [
      "Please Enter Name - asr\n",
      "Please Enter the no. of people the bikes are being rented for - 4\n"
     ]
    }
   ],
   "source": [
    "c1.display()"
   ]
  },
  {
   "cell_type": "code",
   "execution_count": 60,
   "metadata": {},
   "outputs": [
    {
     "name": "stdout",
     "output_type": "stream",
     "text": [
      "No. of bikes available in stock are -  40\n"
     ]
    }
   ],
   "source": [
    "c1.dis_inStock()"
   ]
  },
  {
   "cell_type": "code",
   "execution_count": 61,
   "metadata": {},
   "outputs": [
    {
     "name": "stdout",
     "output_type": "stream",
     "text": [
      "Enter the no. of bikes you need - 5\n",
      "You rented 5 bike/bikes on hourly basis today i.e  17/02/2021, 09:36:58 PM\n",
      "You will be charged $5 for each hour per bike.\n"
     ]
    }
   ],
   "source": [
    "c1.hr()"
   ]
  },
  {
   "cell_type": "code",
   "execution_count": 62,
   "metadata": {},
   "outputs": [
    {
     "name": "stdout",
     "output_type": "stream",
     "text": [
      "Please enter the no. of bikes you want to return - 5\n",
      "Bill Generating\n"
     ]
    }
   ],
   "source": [
    "c1.u_inp()"
   ]
  },
  {
   "cell_type": "code",
   "execution_count": 64,
   "metadata": {},
   "outputs": [
    {
     "name": "stdout",
     "output_type": "stream",
     "text": [
      "Please enter the type of booking you did i.e Hourly[H], Weekly[W] or Daily[D]\n",
      "h\n",
      "Eligible for 30% discount\n",
      "Bill Generation Time/Date -  18/02/2021, 10:30:53 AM\n",
      "Customer info -\n",
      "Name :  asr\n",
      "Total amount to be paid = $ 0.004861111111111111\n"
     ]
    }
   ],
   "source": [
    "c1.bill_g()"
   ]
  },
  {
   "cell_type": "code",
   "execution_count": null,
   "metadata": {},
   "outputs": [],
   "source": []
  }
 ],
 "metadata": {
  "kernelspec": {
   "display_name": "Python 3",
   "language": "python",
   "name": "python3"
  },
  "language_info": {
   "codemirror_mode": {
    "name": "ipython",
    "version": 3
   },
   "file_extension": ".py",
   "mimetype": "text/x-python",
   "name": "python",
   "nbconvert_exporter": "python",
   "pygments_lexer": "ipython3",
   "version": "3.9.1"
  }
 },
 "nbformat": 4,
 "nbformat_minor": 4
}
