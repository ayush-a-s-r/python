{
 "cells": [
  {
   "cell_type": "code",
   "execution_count": 32,
   "metadata": {},
   "outputs": [
    {
     "name": "stdout",
     "output_type": "stream",
     "text": [
      "* * *           *   *                         \n",
      "*     *       * * * *                         \n",
      "*     *         *   *                     *   \n",
      "* * *   *   *   *   * * *       * *     *   * \n",
      "*         * *   *   *     *   *     *   *   * \n",
      "*           *   *   *     *   *     *   *   * \n",
      "*         *     *   *     *     * *     *   * \n"
     ]
    }
   ],
   "source": [
    "#Python\n",
    "for i in range(7):\n",
    "    for j in range(23):\n",
    "        if((j==0 or j==8 or j==10)) or ((i==1) and (j==3)) or ((i==2) and (j==3) or ((i==0 or i==3) and j>0 and j<3)) or ((i==3) and (j==4 or j==6 or j==11 or j==12)) or ((i==1) and (j==7 or j==9)) or ((i==4 or i==5) and j>5 and j<7) or ((i==4 or i==6) and j>4 and j<6) or ((i==4 or i==5 or i==6) and j>12 and j<14) or ((i==4 or i==5) and j>14 and j<16) or ((i==4 or i==5)and j>17 and j<19) or ((i==3 or i==6) and j>15 and j<18) or ((j==20 or j==22) and i!=0 and i!=1 and i!=2) or ((i==2) and j>20 and j<22):\n",
    "            print(\"*\", end = \" \")\n",
    "        else:\n",
    "            print(end = \"  \")\n",
    "    print()\n"
   ]
  },
  {
   "cell_type": "code",
   "execution_count": 57,
   "metadata": {},
   "outputs": [
    {
     "name": "stdout",
     "output_type": "stream",
     "text": [
      "  * * * *   *                                     \n",
      "*           *                                     \n",
      "*           *         * *       * * *     * * *   \n",
      "*           *       *   *     *         *         \n",
      "*           *       *   *       * *       * *     \n",
      "*           *   *   *   *           *         *   \n",
      "  * * * *   * *       * * *   * * *     * * *     \n"
     ]
    }
   ],
   "source": [
    "#Class\n",
    "for i in range(7):\n",
    "    for j in range(25):\n",
    "        if((j==0) and i!=0 and i!=6) or ((j==6)) or ((i==0 or i==6) and j>0 and j<5) or ((i==5) and j>7 and j<9)or ((i==6) and j>6 and j<8) or ((i==2 or i==6) and j>10 and j<13) or ((i==6) and j>12 and j<14) or ((j==10) and i!=0 and i!=1 and i!=2 and i!=6) or ((i==3 or i==4 or i==5) and j>11 and j<13) or ((i==2) and j>15 and j<19) or ((i==3) and j>14 and j<16) or ((i==4) and j>15 and j<18) or ((i==5) and j>17 and j<19) or ((i==6) and  j>14 and j<18) or ((i==2) and j>20 and j<24) or ((i==3) and j>19 and j<21) or ((i==4) and j>20 and j<23) or ((i==5) and j>22 and j<24) or ((i==6) and  j>19 and j<23):\n",
    "            print(\"*\", end = \" \")\n",
    "        else:\n",
    "            print(end = \"  \")\n",
    "    print()\n"
   ]
  },
  {
   "cell_type": "code",
   "execution_count": 68,
   "metadata": {},
   "outputs": [
    {
     "name": "stdout",
     "output_type": "stream",
     "text": [
      "        *           *   \n",
      "      *   *       * * * \n",
      "    * * * * *       *   \n",
      "  *           *     *   \n",
      "*               *   *   \n"
     ]
    }
   ],
   "source": [
    "#At\n",
    "for i in range(5):\n",
    "    for j in range(12):\n",
    "        if((i==0) and (j==4 or j==10)) or ((i==1) and (j==3 or j==5 or j==9 or j==11)) or (j==10) or ((i==2) and j>1 and j<7) or ((i==3) and (j==1 or j==7)) or ((i==4) and (j==0 or j==8)):\n",
    "             print(\"*\", end = \" \")\n",
    "        else:\n",
    "            print(end = \"  \")\n",
    "    print()"
   ]
  },
  {
   "cell_type": "code",
   "execution_count": 78,
   "metadata": {},
   "outputs": [
    {
     "name": "stdout",
     "output_type": "stream",
     "text": [
      "* * *                 *   *                           \n",
      "*     *           *   *   *     *                     \n",
      "*     *     * *       *   *                           \n",
      "* * *     *       *   *   *     *     * *     * *     \n",
      "*     *   *       *   *   *     *   *       *   *     \n",
      "*     *   *       *   *   *     *   *       *   *     \n",
      "* * *     *       *   * * * *   *     * *     * * *   \n"
     ]
    }
   ],
   "source": [
    "#Brillica\n",
    "for i in range(7):\n",
    "    for j in range(27):\n",
    "        if((j==0)) or ((i==0 or i==3 or i==6) and j>0 and j<3) or ((j==3) and i!=0 and i!=3 and i!=6) or ((j==5) and i!=0 and i!=1 and i!=2) or ((i==2) and j>5 and j<8) or ((j==9) and i!=0 and i!=2) or ((j==11 or j==13)) or ((i==6) and (j==12 or j==14)) or ((j==16) and i!=0 and i!=2) or ((i==3 or i==6) and j>18 and j<21) or ((j==18) and (i==4 or i==5)) or ((i==3 or i==6) and j>22 and j<25) or ((j==22 or j==24) and (i==4 or i==5)) or ((i==6) and (j==25)):\n",
    "            print(\"*\", end = \" \")\n",
    "        else:\n",
    "            print(end = \"  \")\n",
    "    print()"
   ]
  },
  {
   "cell_type": "code",
   "execution_count": null,
   "metadata": {},
   "outputs": [],
   "source": []
  }
 ],
 "metadata": {
  "kernelspec": {
   "display_name": "Python 3",
   "language": "python",
   "name": "python3"
  },
  "language_info": {
   "codemirror_mode": {
    "name": "ipython",
    "version": 3
   },
   "file_extension": ".py",
   "mimetype": "text/x-python",
   "name": "python",
   "nbconvert_exporter": "python",
   "pygments_lexer": "ipython3",
   "version": "3.9.1"
  }
 },
 "nbformat": 4,
 "nbformat_minor": 4
}
