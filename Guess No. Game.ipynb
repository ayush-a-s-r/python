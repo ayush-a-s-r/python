{
 "cells": [
  {
   "cell_type": "code",
   "execution_count": 22,
   "metadata": {},
   "outputs": [
    {
     "data": {
      "text/plain": [
       "59"
      ]
     },
     "execution_count": 22,
     "metadata": {},
     "output_type": "execute_result"
    }
   ],
   "source": [
    "import random\n",
    "num = random.randint(1,100)\n",
    "num\n"
   ]
  },
  {
   "cell_type": "code",
   "execution_count": 23,
   "metadata": {},
   "outputs": [
    {
     "name": "stdout",
     "output_type": "stream",
     "text": [
      "Welcome to Game\n",
      "\n",
      "Think and enter a no. between 1-100\n",
      "\n",
      "If your guess is more than 10 to the no. answer will be COLD\n",
      "\n",
      "If your guess is within 10 to the no. answer will be WARM\n",
      "\n",
      "If guess is more than 10, answer will be COLDER\n",
      "\n",
      "If guess is close to 10, answer will be WARMER\n",
      "\n",
      "Lets Begin\n",
      "Enter a no. between 1 and 100 -- 77\n",
      "Enter a no. between 1 and 100 -- 77\n",
      "Cold\n",
      "Enter a no. between 1 and 100 -- 85\n",
      "Colder\n",
      "Enter a no. between 1 and 100 -- 66\n",
      "Warmer\n",
      "Enter a no. between 1 and 100 -- 55\n",
      "Warmer\n",
      "Enter a no. between 1 and 100 -- 44\n",
      "Colder\n",
      "Enter a no. between 1 and 100 -- 60\n",
      "Warmer\n",
      "Enter a no. between 1 and 100 -- 59\n",
      "Congrats, you gussed it right, in 7 guesses\n"
     ]
    }
   ],
   "source": [
    "print(\"Welcome to Game\\n\")\n",
    "print(\"Think and enter a no. between 1-100\\n\")\n",
    "print(\"If your guess is more than 10 to the no. answer will be COLD\\n\")\n",
    "print(\"If your guess is within 10 to the no. answer will be WARM\\n\")\n",
    "print(\"If guess is more than 10, answer will be COLDER\\n\")\n",
    "print(\"If guess is close to 10, answer will be WARMER\\n\")\n",
    "print(\"Lets Begin\")\n",
    "\n",
    "a_a=[0]\n",
    "while True:\n",
    "    a = int(input(\"Enter a no. between 1 and 100 -- \"))\n",
    "    if a<1 or a>100:\n",
    "        print(\"Entered no. {} is out of bounds\".format(a))\n",
    "        continue\n",
    "    break\n",
    "while True:\n",
    "    a = int(input(\"Enter a no. between 1 and 100 -- \"))\n",
    "    if a<1 or a>100:\n",
    "        print(\"Entered no. {} is out of bounds\".format(a))\n",
    "        continue\n",
    "    if a==num:\n",
    "        print('Congrats, you gussed it right, in {} guesses'.format(len(a_a)))\n",
    "        break\n",
    "    a_a.append(a)\n",
    "    if a_a[-2]:\n",
    "        if abs(num-a)<abs(num-a_a[-2]):\n",
    "            print(\"Warmer\")\n",
    "        else:\n",
    "            print(\"Colder\")\n",
    "    else:\n",
    "        if abs(num-a)<=10:\n",
    "            print(\"Warm\")\n",
    "        else:\n",
    "            print(\"Cold\")\n"
   ]
  },
  {
   "cell_type": "code",
   "execution_count": null,
   "metadata": {},
   "outputs": [],
   "source": []
  },
  {
   "cell_type": "code",
   "execution_count": null,
   "metadata": {},
   "outputs": [],
   "source": []
  }
 ],
 "metadata": {
  "kernelspec": {
   "display_name": "Python 3",
   "language": "python",
   "name": "python3"
  },
  "language_info": {
   "codemirror_mode": {
    "name": "ipython",
    "version": 3
   },
   "file_extension": ".py",
   "mimetype": "text/x-python",
   "name": "python",
   "nbconvert_exporter": "python",
   "pygments_lexer": "ipython3",
   "version": "3.9.1"
  }
 },
 "nbformat": 4,
 "nbformat_minor": 4
}
